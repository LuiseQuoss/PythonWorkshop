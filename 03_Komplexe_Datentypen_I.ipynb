{
 "cells": [
  {
   "cell_type": "markdown",
   "metadata": {},
   "source": [
    "# Komplexe Datentypen I: Listen, Sets und Tupel"
   ]
  },
  {
   "cell_type": "markdown",
   "metadata": {},
   "source": [
    "## Listen"
   ]
  },
  {
   "cell_type": "markdown",
   "metadata": {},
   "source": [
    "Manchmal möchte man seine Informationen strukturierter speichern. Dafür bietet sich in Python zum Beispiel die Liste an. Mit diesem Datentyp lassen sich viele Operationen leichter ausführen, was wir später noch sehen werden. (In Ruby und Java heißen Listen Arrays!)"
   ]
  },
  {
   "cell_type": "markdown",
   "metadata": {},
   "source": [
    "Listen bestehen aus Klammern, in denen die einzelnen Items durch Kommata getrennt aufgelistet sind:"
   ]
  },
  {
   "cell_type": "code",
   "execution_count": 1,
   "metadata": {},
   "outputs": [
    {
     "data": {
      "text/plain": [
       "list"
      ]
     },
     "execution_count": 1,
     "metadata": {},
     "output_type": "execute_result"
    }
   ],
   "source": [
    "mylist = [1, 2, 3, 4]\n",
    "type(mylist)"
   ]
  },
  {
   "cell_type": "markdown",
   "metadata": {},
   "source": [
    "Eine Liste kann verschiedene Items speichern. Dabei sind fast alle Datentypen, auch gemischt, möglich:"
   ]
  },
  {
   "cell_type": "code",
   "execution_count": 3,
   "metadata": {},
   "outputs": [],
   "source": [
    "tiere = ['Hamster', 'Ente', 'Elch', 'Katze', 'Noch eine Katze', 'Goldfisch']\n",
    "temperaturen = [14.0, 28.9, -2.5, 31.4, 12.6, 21.3]\n",
    "stuff = ['Gans', True, 4, 4.4, None, ['hallo', 'hola', 'salut']]"
   ]
  },
  {
   "cell_type": "markdown",
   "metadata": {},
   "source": [
    "Man kann auch einfach eine leere Liste anlegen und sie später füllen - die Größe und der Inhalt sind variabel und können immer wieder verändert werden:"
   ]
  },
  {
   "cell_type": "code",
   "execution_count": 15,
   "metadata": {},
   "outputs": [],
   "source": [
    "my_empty_list = list()\n",
    "my_other_empty_list = []"
   ]
  },
  {
   "cell_type": "markdown",
   "metadata": {},
   "source": [
    "## Mit Listen arbeiten"
   ]
  },
  {
   "cell_type": "markdown",
   "metadata": {},
   "source": [
    "Alle Items in der Liste haben eine \"Platznummer\", genannt. Index. Wie ganz viele automatisch generierte Zahlenfolgen in Python und vielen ähnlichen Programmiersprachen beginnt dieser Index immer bei Null, nicht Eins! Man kommt über den Index ganz einfach an den Inhalt an dieser Stelle der Liste:"
   ]
  },
  {
   "cell_type": "code",
   "execution_count": 8,
   "metadata": {},
   "outputs": [
    {
     "name": "stdout",
     "output_type": "stream",
     "text": [
      "1\n",
      "4\n",
      "Katze\n"
     ]
    }
   ],
   "source": [
    "print(mylist[0])\n",
    "print(stuff[2])\n",
    "print(tiere[3])"
   ]
  },
  {
   "cell_type": "markdown",
   "metadata": {},
   "source": [
    "Der Index geht nur bis zum höchsten Item, der Länge der Liste minus eins:"
   ]
  },
  {
   "cell_type": "code",
   "execution_count": 9,
   "metadata": {
    "scrolled": true
   },
   "outputs": [
    {
     "name": "stdout",
     "output_type": "stream",
     "text": [
      "6\n",
      "21.3\n"
     ]
    },
    {
     "ename": "IndexError",
     "evalue": "list index out of range",
     "output_type": "error",
     "traceback": [
      "\u001b[0;31m---------------------------------------------------------------------------\u001b[0m",
      "\u001b[0;31mIndexError\u001b[0m                                Traceback (most recent call last)",
      "\u001b[0;32m<ipython-input-9-7faba9a39ef5>\u001b[0m in \u001b[0;36m<module>\u001b[0;34m\u001b[0m\n\u001b[1;32m      1\u001b[0m \u001b[0mprint\u001b[0m\u001b[0;34m(\u001b[0m\u001b[0mlen\u001b[0m\u001b[0;34m(\u001b[0m\u001b[0mtemperaturen\u001b[0m\u001b[0;34m)\u001b[0m\u001b[0;34m)\u001b[0m\u001b[0;34m\u001b[0m\u001b[0m\n\u001b[1;32m      2\u001b[0m \u001b[0mprint\u001b[0m\u001b[0;34m(\u001b[0m\u001b[0mtemperaturen\u001b[0m\u001b[0;34m[\u001b[0m\u001b[0;36m5\u001b[0m\u001b[0;34m]\u001b[0m\u001b[0;34m)\u001b[0m\u001b[0;34m\u001b[0m\u001b[0m\n\u001b[0;32m----> 3\u001b[0;31m \u001b[0mprint\u001b[0m\u001b[0;34m(\u001b[0m\u001b[0mtemperaturen\u001b[0m\u001b[0;34m[\u001b[0m\u001b[0;36m6\u001b[0m\u001b[0;34m]\u001b[0m\u001b[0;34m)\u001b[0m\u001b[0;34m\u001b[0m\u001b[0m\n\u001b[0m",
      "\u001b[0;31mIndexError\u001b[0m: list index out of range"
     ]
    }
   ],
   "source": [
    "print(len(temperaturen))\n",
    "print(temperaturen[5])\n",
    "print(temperaturen[6])"
   ]
  },
  {
   "cell_type": "markdown",
   "metadata": {},
   "source": [
    "Man kann auch von hinten anfangen, auf die Liste zuzugreifen:"
   ]
  },
  {
   "cell_type": "code",
   "execution_count": 10,
   "metadata": {},
   "outputs": [
    {
     "name": "stdout",
     "output_type": "stream",
     "text": [
      "Goldfisch\n",
      "None\n"
     ]
    }
   ],
   "source": [
    "print(tiere[-1])\n",
    "print(stuff[-2])"
   ]
  },
  {
   "cell_type": "markdown",
   "metadata": {},
   "source": [
    "Möchte man der Liste etwas hinzufügen, gibt es die Funktion ```append()```:"
   ]
  },
  {
   "cell_type": "code",
   "execution_count": 11,
   "metadata": {},
   "outputs": [
    {
     "name": "stdout",
     "output_type": "stream",
     "text": [
      "[1, 2, 3, 4, 5]\n",
      "['Gans', True, 4, 4.4, None, ['hallo', 'hola', 'salut'], 'Baum']\n"
     ]
    }
   ],
   "source": [
    "mylist.append(5)\n",
    "stuff.append('Baum')\n",
    "print(mylist)\n",
    "print(stuff)"
   ]
  },
  {
   "cell_type": "markdown",
   "metadata": {},
   "source": [
    "mylist.append(5)\n",
    "stuff.append('Baum')\n",
    "print(mylist)\n",
    "print(stuff)"
   ]
  },
  {
   "cell_type": "code",
   "execution_count": 12,
   "metadata": {},
   "outputs": [],
   "source": [
    "stuff[2] = 'vier'"
   ]
  },
  {
   "cell_type": "markdown",
   "metadata": {},
   "source": [
    "Ein Item entfernen:"
   ]
  },
  {
   "cell_type": "code",
   "execution_count": 13,
   "metadata": {},
   "outputs": [
    {
     "name": "stdout",
     "output_type": "stream",
     "text": [
      "['Hamster', 'Ente', 'Elch', 'Katze', 'Goldfisch']\n"
     ]
    }
   ],
   "source": [
    "tiere.remove('Noch eine Katze')\n",
    "print(tiere)"
   ]
  },
  {
   "cell_type": "markdown",
   "metadata": {},
   "source": [
    "Den Index eines Listenelements herausfinden und die Länge einer Liste abfragen:"
   ]
  },
  {
   "cell_type": "code",
   "execution_count": 16,
   "metadata": {},
   "outputs": [
    {
     "name": "stdout",
     "output_type": "stream",
     "text": [
      "1\n",
      "5\n",
      "5\n",
      "0\n"
     ]
    }
   ],
   "source": [
    "print(tiere.index('Ente'))\n",
    "print(len(tiere))\n",
    "print(len(mylist))\n",
    "print(len(my_other_empty_list))"
   ]
  },
  {
   "cell_type": "markdown",
   "metadata": {},
   "source": [
    "Die Liste sortieren:"
   ]
  },
  {
   "cell_type": "code",
   "execution_count": 21,
   "metadata": {},
   "outputs": [
    {
     "name": "stdout",
     "output_type": "stream",
     "text": [
      "['Elch', 'Ente', 'Goldfisch', 'Hamster', 'Katze']\n"
     ]
    }
   ],
   "source": [
    "tiere.sort()\n",
    "print(tiere)"
   ]
  },
  {
   "cell_type": "markdown",
   "metadata": {},
   "source": [
    "Eine sortierte Kopie der Liste erhalten:"
   ]
  },
  {
   "cell_type": "code",
   "execution_count": 25,
   "metadata": {},
   "outputs": [
    {
     "name": "stdout",
     "output_type": "stream",
     "text": [
      "[3, 5, 60, 400, 1, 0.5, 6, 8, 0]\n",
      "[0, 0.5, 1, 3, 5, 6, 8, 60, 400]\n"
     ]
    }
   ],
   "source": [
    "numbers = [3, 5, 60, 400, 1, 0.5, 6, 8, 0]\n",
    "sorted_numbers = sorted(numbers)\n",
    "print(numbers)\n",
    "print(sorted_numbers)"
   ]
  },
  {
   "cell_type": "markdown",
   "metadata": {},
   "source": [
    "Das Keyword ```in``` kann überprüfen, ob etwas in einer Liste enthalten ist:"
   ]
  },
  {
   "cell_type": "code",
   "execution_count": 24,
   "metadata": {},
   "outputs": [
    {
     "name": "stdout",
     "output_type": "stream",
     "text": [
      "True\n",
      "False\n"
     ]
    }
   ],
   "source": [
    "answer = 'Ente' in tiere\n",
    "more = 'Hund' in tiere\n",
    "print(answer)\n",
    "print(more)"
   ]
  },
  {
   "cell_type": "markdown",
   "metadata": {},
   "source": [
    "## Slicing"
   ]
  },
  {
   "cell_type": "markdown",
   "metadata": {},
   "source": [
    "Möchte man einen Teil der Liste kopieren, kann man die Liste \"zerschneiden\", also *slicen*. Die ursprüngliche Liste bleibt dabei erhalten, es wird nur die Kopie zerschnitten. "
   ]
  },
  {
   "cell_type": "code",
   "execution_count": 22,
   "metadata": {},
   "outputs": [
    {
     "name": "stdout",
     "output_type": "stream",
     "text": [
      "['Elch', 'Ente', 'Goldfisch', 'Hamster', 'Katze']\n",
      "['Goldfisch', 'Hamster', 'Katze']\n",
      "['Elch', 'Ente']\n",
      "['Ente', 'Goldfisch']\n"
     ]
    }
   ],
   "source": [
    "haustiere = tiere[2:5] # ist das gleiche wie: tiere[2:]\n",
    "wildtiere = tiere[0:2] # ist das gleiche wie: tiere[:2]\n",
    "wassertiere = tiere[1:3]\n",
    "print(tiere)\n",
    "print(haustiere)\n",
    "print(wildtiere)\n",
    "print(wassertiere)"
   ]
  },
  {
   "cell_type": "markdown",
   "metadata": {},
   "source": [
    "## Sets und Tupel"
   ]
  },
  {
   "cell_type": "markdown",
   "metadata": {},
   "source": [
    "Sets sind Mengen (im Sinne der Mengenlehre: ein Element darf nur einmal in der Menge vorkommen). Sie werden wie Listen notiert, nur, dass man geschweifte Klammern benutzt. Sets können auch aus Listen erzeugt werden. Außerdem benutzt man sie, um doppelte Elemente in Listen zu eliminieren:"
   ]
  },
  {
   "cell_type": "code",
   "execution_count": 26,
   "metadata": {},
   "outputs": [
    {
     "name": "stdout",
     "output_type": "stream",
     "text": [
      "{'Sonnenblume', 'Orchidee', 'Gras', 'Buche', 'Linde', 'Platane', 'Pappel'}\n",
      "['Buche', 'Gras', 'Linde', 'Orchidee', 'Pappel', 'Platane', 'Sonnenblume']\n"
     ]
    }
   ],
   "source": [
    "plants = ['Buche', 'Orchidee', 'Pappel', 'Gras', 'Buche', 'Sonnenblume', 'Linde', 'Sonnenblume', 'Platane', 'Linde', 'Gras']\n",
    "plants = set(plants)\n",
    "print(plants)\n",
    "plants = sorted(plants)\n",
    "print(plants)"
   ]
  },
  {
   "cell_type": "markdown",
   "metadata": {},
   "source": [
    "Ein Tupel verhält sich im Wesentlichen wie eine Liste, allerdings mit dem Unterschied, dass die Daten innerhalb des Tupels nicht geändert werden können. Andere Operationen, z.B. Indexing und Slicing funktionieren aber. Tupel werden durch runde Klammern ausgedrückt, die allerdings optional sind:"
   ]
  },
  {
   "cell_type": "code",
   "execution_count": 27,
   "metadata": {},
   "outputs": [
    {
     "name": "stdout",
     "output_type": "stream",
     "text": [
      "2\n"
     ]
    }
   ],
   "source": [
    "my_tuple = ('hello', 'world')\n",
    "print(len(my_tuple))"
   ]
  },
  {
   "cell_type": "markdown",
   "metadata": {},
   "source": [
    "Tupel sind der Default-Datentyp, wenn Daten ge- oder entpackt werden (das kann uns später bei Funktionen begegnen). Deshalb sind die Klammern optional, das Komma allerdings nicht."
   ]
  },
  {
   "cell_type": "code",
   "execution_count": 29,
   "metadata": {},
   "outputs": [
    {
     "name": "stdout",
     "output_type": "stream",
     "text": [
      "<class 'str'>\n",
      "<class 'tuple'>\n",
      "<class 'tuple'>\n"
     ]
    }
   ],
   "source": [
    "my_not_tuple = ('Schokolade')\n",
    "my_tuple = ('Schoooki',)\n",
    "my_other_tuple = 'Marzipan', 'Kuchen'\n",
    "print(type(my_not_tuple))\n",
    "print(type(my_tuple))\n",
    "print(type(my_other_tuple))"
   ]
  },
  {
   "cell_type": "markdown",
   "metadata": {},
   "source": [
    "Eine Praxisempfehlung ist, homogene Daten (= immer der gleiche Datentyp) in Listen, heterogene Daten in Tupel zu speichern. Wenn man weiß, dass man die Daten innerhalb einer Liste nicht ändern möchte, empfiehlt sich das etwas performantere Tupel."
   ]
  },
  {
   "cell_type": "markdown",
   "metadata": {},
   "source": [
    "## Übungen: Listen"
   ]
  },
  {
   "cell_type": "markdown",
   "metadata": {},
   "source": [
    "1. Lege eine Liste mit Namen an. Frage über die ```input()```-Funktion einen Namen ab und überprüfe, ob dieser in der Liste enthalten ist. Wenn ja, begrüße die bekannte Person, wenn nicht, begrüße die neue Person, füge den Namen der Liste hinzu und gebe die Liste aus."
   ]
  },
  {
   "cell_type": "markdown",
   "metadata": {},
   "source": [
    "2. Lege eine Liste mit 10 verschiedenen Zahlen an, die nicht sortiert sind. Finde heraus, welche die größte Zahl ist."
   ]
  },
  {
   "cell_type": "markdown",
   "metadata": {},
   "source": [
    "3. Wie erhalte ich eine Kopie einer beliebigen Liste, die nicht das erste und nicht das letzte Element der Liste enthält?"
   ]
  }
 ],
 "metadata": {
  "kernelspec": {
   "display_name": "Python 3",
   "language": "python",
   "name": "python3"
  },
  "language_info": {
   "codemirror_mode": {
    "name": "ipython",
    "version": 3
   },
   "file_extension": ".py",
   "mimetype": "text/x-python",
   "name": "python",
   "nbconvert_exporter": "python",
   "pygments_lexer": "ipython3",
   "version": "3.5.2"
  }
 },
 "nbformat": 4,
 "nbformat_minor": 2
}
