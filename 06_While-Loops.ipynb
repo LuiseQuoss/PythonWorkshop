{
 "cells": [
  {
   "cell_type": "markdown",
   "metadata": {},
   "source": [
    "# While Loops\n",
    "\n",
    "Mit der Nutzung von **While Loops** können wir Aufgaben so oft wiederholen lassen, wie wir möchten. Geben wir keinen exakten Endpunkt an, entsteht ein **Infinity-Loop** (niemals endende Wiederholung). <br>\n",
    "Generell werden in Python meistens die bereits vorgestellten **For Loops** verwendet."
   ]
  },
  {
   "cell_type": "markdown",
   "metadata": {},
   "source": [
    "## Anatomie der While Loops"
   ]
  },
  {
   "cell_type": "markdown",
   "metadata": {},
   "source": [
    "Die grundlegende Anatomie des While Loop ähnelt der des For Loops. Allerdings folgt nach dem Aufrufen von **while** zuerst eine **logische Bedingung** bevor mit einem **Doppelpunkt** die Aufgaben der Schleife an sich beginnen. Erneut ist die richtige **Einrückung** essentiell! <br>\n",
    "Jeder While Loop startet mit einer Bedinung, die *true* ist. Nach jedem Durchlauf wird diese Bedinung erneut getest. Der Loop läuft nicht mehr, wenn die Bedinung *false* wird."
   ]
  },
  {
   "cell_type": "markdown",
   "metadata": {},
   "source": [
    "##### Theoretischer Aufbau (nicht ausführbar)"
   ]
  },
  {
   "cell_type": "code",
   "execution_count": null,
   "metadata": {},
   "outputs": [],
   "source": [
    "#Initiale Bedinung\n",
    "bedingung = true \n",
    "\n",
    "#wenn diese Bediung wahr ist\n",
    "while bedingung:\n",
    "    #tue all dies\n",
    "    #momentan: leerer Loop\n",
    "    #sobal spiel_aktivität auf false gesetzt wird, stoppt der Loop\n",
    "\n",
    "#alle Befehle ohne Einrückung werden NACH dem Loop ausgeführt"
   ]
  },
  {
   "cell_type": "markdown",
   "metadata": {},
   "source": [
    "##### Konkretes Python-Beispiel"
   ]
  },
  {
   "cell_type": "code",
   "execution_count": 2,
   "metadata": {},
   "outputs": [
    {
     "name": "stdout",
     "output_type": "stream",
     "text": [
      "Das Spiel läuft noch, da die Power bei  5  ist.\n",
      "Das Spiel läuft noch, da die Power bei  4  ist.\n",
      "Das Spiel läuft noch, da die Power bei  3  ist.\n",
      "Das Spiel läuft noch, da die Power bei  2  ist.\n",
      "Das Spiel läuft noch, da die Power bei  1  ist.\n",
      "\n",
      "Oh nein, deine Power ist bei 0! Spiel vorbei!\n"
     ]
    }
   ],
   "source": [
    "#Initiale Bediung\n",
    "power = 5\n",
    "\n",
    "#solange power größer als 5 ist...\n",
    "while power > 0: \n",
    "    #... gebe diese Zeile aus:\n",
    "    print(\"Das Spiel läuft noch, da die Power bei \", power, \" ist.\")\n",
    "    #dann veringere die power um 1\n",
    "    power = power - 1\n",
    "\n",
    "#wenn der Loop vollstänidg gelaufen ist, passiert folgendes:    \n",
    "print(\"\\nOh nein, deine Power ist bei 0! Spiel vorbei!\")"
   ]
  },
  {
   "cell_type": "markdown",
   "metadata": {},
   "source": [
    "## 1. Übung\n",
    "1. Schreibe einen While Loop, der die Variable *staerke* (bsp. einer Handballspielerin) jede Runde im Loop um 1 erhöht (Anfangswert = 1). Jede Runde soll die aktuelle Stärke ausgegeben werden (umrahmt von einem kurzen Satz). Wenn die Stärke den Wert 10 erreicht, soll der Loop stoppen. Gib nach dem Loop einen Satz aus wie bspw. \"Hurra! Die Spielerin hat ihre maximale Stärke erreicht!\".\n",
    "2. Welche verschiedenen logischen Bedingungen kannst du nutzen, um den While Loop zu stoppen? (Schau gerne nochmal in das Kapitel *02_bools*.)\n",
    "3. Was für einen Unterschied macht es, wenn du erst die Wert von *staerke* um Eins erhöhst, oder erst den aktuellen Wert von *staerke* ausgeben lässt? (Probier's gerne aus!)"
   ]
  },
  {
   "cell_type": "markdown",
   "metadata": {},
   "source": [
    "## Versehentlicher Infinity Loop"
   ]
  },
  {
   "cell_type": "markdown",
   "metadata": {},
   "source": [
    "Sollte durch kein eindeutiger Endpunkt gegeben sein (z.B. durch eine falsche logische Bedinung), entsteht ein Ininity-Loop. Diesen kannst du im Terminal mit str + c unterbrechen. <br>\n",
    "Das folgende Beispiel stellte einen solchen Loop dar. Nicht im Jupyter Notebook ausführen! Gerne mal auf dem eigenen PC starten und unterbrechen.\n",
    "\n",
    "```i = 10\n",
    "while i < 20: \n",
    "    print(i\n",
    "    i = i-1``` #hier könnte i = i+1 stehen, dann wäre es kein Infinity Loop"
   ]
  },
  {
   "cell_type": "markdown",
   "metadata": {},
   "source": [
    "## 2. Übung\n",
    "Wiederholung: Über die Funktion ```input()``` können Eingaben von Nutzer\\*innen verarbeitet werden. Kurzes Codebeispiel: eingabe = input(\"Geben Sie eine Zahl ein: \"). Der Eingabewert der Nutzer\\*in wird hierbei in der Variablen *eingabe* gespeichert. Der Text innerhalb der Klammern wird den Nutzer\\*innen angezeigt. <br>\n",
    "1. Vervollständige den folgenden Code. Ziel ist es, dass der Loop solange läuft, bis der/die Nutzer\\*in 'exit' eingibt. Andernfalls soll der/die Nutzer\\*in dazu aufgeforder werden, einen neuen Namen zu nennen. Nach dem Loop sollen alle Namen einmal ausgegeben werden.\n",
    "2. Zusatz: Bevor der Name der Liste hinzugefügt wird, teste, ob der Name bereits in der Liste ist. Sollte dies der Fall sein, füge den Namen nicht hinzu und weise mit einer Ausgabe darauf hin. <br>\n",
    "\n",
    "Anmerkung: Die Kommentare sollen dir bei der Struktur behilflich sein. Du darst aber auch gerne deine eigene Struktur entwickeln!"
   ]
  },
  {
   "cell_type": "code",
   "execution_count": null,
   "metadata": {},
   "outputs": [],
   "source": [
    "# Start mit einer leeren Liste\n",
    "names = []\n",
    "\n",
    "# Wert der Variablen neuer_namen auf etwas anders als 'exit' setzen\n",
    "neuer_name = ''\n",
    "\n",
    "# Loop starten, der beendet wird, sollte der/die Nutzer*in 'exit' eingeben\n",
    "#while...\n",
    "    \n",
    "    #1. Frage nach einem neuen Input\n",
    "    \n",
    "    #2. Wenn die Eingabe NICHT 'exit' ist, füge den Namen zu der Liste hinzu\n",
    "    \n",
    "#gebe alle Namen aus"
   ]
  },
  {
   "cell_type": "markdown",
   "metadata": {},
   "source": [
    "## 3. Übung \n",
    "1. Erinnere dich an die erste Übung aus dem Kapitel 04_For-Loops: *\"Erstelle eine beliebig lange Listen mit Zahlen (int oder float oder gemischt). Addiere alle Zahlen zusammen und gebe die Gesamtsumme aus. Du weißt vorher nicht, wie viele Zahlen addiert werden sollen.\"*\n",
    "2. Schreibe die Funktion in einen While Loop um. <br>\n",
    "Tipp: Lasse dir mit der Funktion len() die Länge der Liste ausgeben und kontrolliere darüber das Ende des While Loops."
   ]
  },
  {
   "cell_type": "markdown",
   "metadata": {},
   "source": [
    "## Evaluieren einer Liste als Boolean Wert\n",
    "Interpretieren wir eine Liste als Bool, dann ist sie solange true, wie sie Elemente enthält. Ansonsten wird sie false. Das nächte Beispiel illustriert dies:"
   ]
  },
  {
   "cell_type": "code",
   "execution_count": 8,
   "metadata": {},
   "outputs": [
    {
     "name": "stdout",
     "output_type": "stream",
     "text": [
      "baz\n",
      "True\n",
      "bar\n",
      "True\n",
      "foo\n",
      "False\n"
     ]
    }
   ],
   "source": [
    "a = ['foo', 'bar', 'baz']\n",
    "\n",
    "while a:\n",
    "    print(a.pop(-1))\n",
    "    print(bool(a)==True)\n",
    "    "
   ]
  },
  {
   "cell_type": "markdown",
   "metadata": {},
   "source": [
    "## Einbinden von Break und Continue im While-Loop\n",
    "Die folgenden beiden Beispiele zeigen nochmal die Verwendung von Break and Continue im Loop. Schau dir die Beispiele an und versuche sie nachzuvollziehen. Ansonsten frag doch deine Sitznachbar\\*in :)"
   ]
  },
  {
   "cell_type": "code",
   "execution_count": 9,
   "metadata": {},
   "outputs": [
    {
     "name": "stdout",
     "output_type": "stream",
     "text": [
      "4\n",
      "3\n",
      "Loop ended.\n",
      "4\n",
      "3\n",
      "1\n",
      "0\n",
      "Loop ended.\n"
     ]
    }
   ],
   "source": [
    "#break\n",
    "n = 5\n",
    "\n",
    "while n > 0:\n",
    "    n -= 1\n",
    "    if n == 2:\n",
    "        break\n",
    "    print(n)\n",
    "print('Loop ended.')\n",
    "\n",
    "#continue\n",
    "n = 5\n",
    "\n",
    "while n > 0:\n",
    "    n -= 1\n",
    "    if n == 2:\n",
    "        continue\n",
    "    print(n)\n",
    "print('Loop ended.')"
   ]
  },
  {
   "cell_type": "markdown",
   "metadata": {},
   "source": [
    "## 4. Übung\n",
    "1. Schreibe den Break-Loop so um, dass auch die 5 ausgegeben wird.\n",
    "2. Schreibe den Continue-Loop so um, dass alle geraden Zahlen übersprungen werden und ebenso die 5 ausgegen wird."
   ]
  },
  {
   "cell_type": "markdown",
   "metadata": {},
   "source": [
    "# Ab hier kommen zusätzliche Infos. Können gerne übersprungen werden :)"
   ]
  },
  {
   "cell_type": "markdown",
   "metadata": {},
   "source": [
    "## Zusatz: Verwendung von If- und Else-Statements im While-Loop\n",
    "Auch im Loop können If- und Else-Statements verwendet werden, wie auch in den vergangnen Beispielen bereits geschehen. Schaue dir das folgende Beispiel an und vollziehe es nach. Bei Fragen, schaue doch mal nach rechts und links :) <br>\n",
    "Beachte die Kombination von while und else! Nutze die beiden verschiedenen s-Variablen indem du sie auskommmentierst und schaue dir die Ergebnisse an."
   ]
  },
  {
   "cell_type": "code",
   "execution_count": 1,
   "metadata": {},
   "outputs": [
    {
     "name": "stdout",
     "output_type": "stream",
     "text": [
      "saege ist vorhanden! Juhu!\n"
     ]
    }
   ],
   "source": [
    "#### Anwendung\n",
    "a = ['schraubschluessel', 'saege', 'hammer', 'imbus']\n",
    "s = 'saege'\n",
    "#s = 'luftpumpe'\n",
    "\n",
    "i = 0\n",
    "while i < len(a):\n",
    "    if a[i] == s:\n",
    "        # Processing for item found\n",
    "        print(s, \"ist vorhanden! Juhu!\")\n",
    "        break\n",
    "    i += 1\n",
    "else:\n",
    "    print(s, 'not found in list.')"
   ]
  },
  {
   "cell_type": "markdown",
   "metadata": {},
   "source": [
    "## Zusatz: Nested While Loop \n",
    "Natürlich kann ich in einem While-Loop auch einen weiteren While-Loop starten. Das nennt sich dann **nested** - also ineinander **verschachtelt**. <br>\n",
    "Wie immer folgt ein Beispiel zur Veranschaulichung. Und wie immer darfst du gerne jede\\* um Hilfe bitten!"
   ]
  },
  {
   "cell_type": "code",
   "execution_count": 12,
   "metadata": {
    "scrolled": true
   },
   "outputs": [
    {
     "name": "stdout",
     "output_type": "stream",
     "text": [
      "Wir essen Pizza Margeritha\n",
      "Der Teig braucht:\n",
      "> Mehl\n",
      "> Wasser\n",
      "> Öl\n",
      "> Salz\n",
      "> Hefe\n",
      "Wir essen Pizza Hawaii\n",
      "Der Teig braucht:\n",
      "> Mehl\n",
      "> Wasser\n",
      "> Öl\n",
      "> Salz\n",
      "> Hefe\n",
      "Wir essen Pizza Quattro Formaggi\n",
      "Der Teig braucht:\n",
      "> Mehl\n",
      "> Wasser\n",
      "> Öl\n",
      "> Salz\n",
      "> Hefe\n"
     ]
    }
   ],
   "source": [
    "pizzatyp = ['Margeritha', 'Hawaii', 'Quattro Formaggi']\n",
    "while len(pizzatyp):\n",
    "    print('Wir essen Pizza', pizzatyp.pop(0))\n",
    "    zutaten = ['Mehl', 'Wasser', 'Öl', 'Salz', 'Hefe']\n",
    "    print('Der Teig braucht:')\n",
    "    while len(zutaten):\n",
    "        print('>', zutaten.pop(0))"
   ]
  },
  {
   "cell_type": "markdown",
   "metadata": {},
   "source": [
    "## Zusatz: Einzeilige While Loops \n",
    "Der While-Loop kann auch in einer Zeile formuliert werden. Für den Anfang nicht so wichtig, aber gut zu wissen für die Zukunft ;)\n"
   ]
  },
  {
   "cell_type": "code",
   "execution_count": 20,
   "metadata": {
    "scrolled": true
   },
   "outputs": [
    {
     "name": "stdout",
     "output_type": "stream",
     "text": [
      "4\n",
      "3\n",
      "2\n",
      "1\n",
      "0\n"
     ]
    }
   ],
   "source": [
    "n = 5 \n",
    "while n > 0: n -= 1; print(n)"
   ]
  },
  {
   "cell_type": "markdown",
   "metadata": {},
   "source": [
    "## Zusatz: 5. Übung\n",
    "Schreibe den Loop von *Anatomie des While-Loops - Konkretes Python-Beispiel* (Thema: Spiel-Power) in einen einzeiligen While-Loop um."
   ]
  }
 ],
 "metadata": {
  "kernelspec": {
   "display_name": "Python 3",
   "language": "python",
   "name": "python3"
  },
  "language_info": {
   "codemirror_mode": {
    "name": "ipython",
    "version": 3
   },
   "file_extension": ".py",
   "mimetype": "text/x-python",
   "name": "python",
   "nbconvert_exporter": "python",
   "pygments_lexer": "ipython3",
   "version": "3.7.4"
  }
 },
 "nbformat": 4,
 "nbformat_minor": 2
}
