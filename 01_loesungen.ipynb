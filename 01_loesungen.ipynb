{
 "cells": [
  {
   "cell_type": "markdown",
   "metadata": {},
   "source": [
    "### Übung 1"
   ]
  },
  {
   "cell_type": "code",
   "execution_count": 5,
   "metadata": {},
   "outputs": [
    {
     "name": "stdout",
     "output_type": "stream",
     "text": [
      "Mit einem Alter von 24 Jahren habe ich bereits 757382400.0 Sekunden gelebt.\n"
     ]
    }
   ],
   "source": [
    "alter = 24\n",
    "tage = alter * 365.25\n",
    "stunden = tage * 24\n",
    "minuten = stunden * 60\n",
    "sekunden = minuten * 60\n",
    "\n",
    "print(\"Mit einem Alter von \"  + str(alter) + \" Jahren habe ich bereits \" + str(sekunden) + \" Sekunden gelebt.\")"
   ]
  },
  {
   "cell_type": "markdown",
   "metadata": {},
   "source": [
    "### Übung 2"
   ]
  },
  {
   "cell_type": "code",
   "execution_count": 11,
   "metadata": {},
   "outputs": [
    {
     "name": "stdout",
     "output_type": "stream",
     "text": [
      "Geben Sie eine Temperatur in Grad Celsius ein: 123\n",
      "123.0 Grad Celsius sind 396.15 Kelvin und 253.4 Fahrenheit.\n"
     ]
    }
   ],
   "source": [
    "#wichtig! der Input muss als Zahl gecastet werden!\n",
    "celsius = float(input(\"Geben Sie eine Temperatur in Grad Celsius ein: \")) \n",
    "kelvin = celsius + 273.15\n",
    "fahrenheit = celsius * 1.8 + 32\n",
    "print(str(celsius) + \" Grad Celsius sind \" + str(kelvin) + \" Kelvin und \" + str(fahrenheit) + \" Fahrenheit.\")"
   ]
  },
  {
   "cell_type": "markdown",
   "metadata": {},
   "source": [
    "### Übung 3"
   ]
  },
  {
   "cell_type": "code",
   "execution_count": 15,
   "metadata": {},
   "outputs": [
    {
     "name": "stdout",
     "output_type": "stream",
     "text": [
      "Die Division von 16 durch 7 ergibt 2 mit einem Rest von 2.\n"
     ]
    }
   ],
   "source": [
    "a = 16\n",
    "b = 7\n",
    "result = int((a/b))\n",
    "rest = (a%b)\n",
    "\n",
    "print(\"Die Division von \" + str(a) + \" durch \" + str(b) + \" ergibt \" + str(result) + \" mit einem Rest von \" + str(rest) + \".\")"
   ]
  },
  {
   "cell_type": "markdown",
   "metadata": {},
   "source": [
    "### Übung 4"
   ]
  },
  {
   "cell_type": "code",
   "execution_count": 16,
   "metadata": {},
   "outputs": [
    {
     "name": "stdout",
     "output_type": "stream",
     "text": [
      "<class 'float'>\n",
      "<class 'int'>\n",
      "<class 'float'>\n",
      "<class 'float'>\n",
      "<class 'int'>\n",
      "<class 'float'>\n",
      "<class 'str'>\n"
     ]
    }
   ],
   "source": [
    "print(type(3/2))\n",
    "print(type(1*5)) \n",
    "print(type(3.0*2)) \n",
    "print(type(2/2))\n",
    "print(type(1+4))\n",
    "print(type(9-3.0))\n",
    "print(type(\"mi\"*3))"
   ]
  }
 ],
 "metadata": {
  "kernelspec": {
   "display_name": "Python 3",
   "language": "python",
   "name": "python3"
  },
  "language_info": {
   "codemirror_mode": {
    "name": "ipython",
    "version": 3
   },
   "file_extension": ".py",
   "mimetype": "text/x-python",
   "name": "python",
   "nbconvert_exporter": "python",
   "pygments_lexer": "ipython3",
   "version": "3.7.4"
  }
 },
 "nbformat": 4,
 "nbformat_minor": 2
}
