{
 "cells": [
  {
   "cell_type": "markdown",
   "metadata": {},
   "source": [
    "# Control Flows 1: Logik"
   ]
  },
  {
   "cell_type": "markdown",
   "metadata": {},
   "source": [
    "Oft möchte man beim Programmieren, dass Teile des Codes nur unter bestimmten Bedingungen ausgeführt werden. Diese Bedingungen testet man mit if:"
   ]
  },
  {
   "cell_type": "code",
   "execution_count": 6,
   "metadata": {},
   "outputs": [
    {
     "name": "stdout",
     "output_type": "stream",
     "text": [
      "Hallo, schön, dass ihr da seid.\n"
     ]
    }
   ],
   "source": [
    "participants = 4\n",
    "\n",
    "if participants < 1:\n",
    "    print(\"Nanu, wo sind denn alle?\")\n",
    "if participants == 1:\n",
    "    print(\"Hallo, schön, dass du da bist.\")\n",
    "if participants > 1:\n",
    "    print(\"Hallo, schön, dass ihr da seid.\")\n",
    "if participants > 10:\n",
    "    print(\"Das wird ziemlich eng hier.\")"
   ]
  },
  {
   "cell_type": "markdown",
   "metadata": {},
   "source": [
    "Manchmal reicht eine Bedingung nicht aus"
   ]
  },
  {
   "cell_type": "code",
   "execution_count": 8,
   "metadata": {},
   "outputs": [
    {
     "name": "stdout",
     "output_type": "stream",
     "text": [
      "Lasst uns anfangen!\n"
     ]
    }
   ],
   "source": [
    "coaches = 2\n",
    "\n",
    "if participants > 0 and coaches > 0:\n",
    "    print(\"Lasst uns anfangen!\")\n",
    "if participants == 0 or coaches == 0:\n",
    "    print(\"Irgendwer fehlt noch\")\n",
    "if not participants and not coaches:\n",
    "    print(\"Ist heute überhaupt Dienstag?\")"
   ]
  },
  {
   "cell_type": "markdown",
   "metadata": {},
   "source": [
    "Man kann die Bedingung auch verschachteln:\n"
   ]
  },
  {
   "cell_type": "code",
   "execution_count": 9,
   "metadata": {},
   "outputs": [
    {
     "name": "stdout",
     "output_type": "stream",
     "text": [
      "Hallo\n"
     ]
    }
   ],
   "source": [
    "greeting = \"hallo\"\n",
    "\n",
    "if greeting == \"hallo\":\n",
    "    print(\"Hallo\")\n",
    "elif greeting == \"Hallo\":\n",
    "    print(\"Hallo\")\n",
    "else:\n",
    "    print(\"Hi\")"
   ]
  },
  {
   "cell_type": "markdown",
   "metadata": {},
   "source": [
    "# 3 Übungen"
   ]
  },
  {
   "cell_type": "markdown",
   "metadata": {},
   "source": [
    "### 1: Welches Ergebnis liefert bool() bei den folgenden Werten:"
   ]
  },
  {
   "cell_type": "code",
   "execution_count": null,
   "metadata": {},
   "outputs": [],
   "source": [
    "# \"False\"\n",
    "# True\n",
    "# \"Codesses\"\n",
    "# \"\"\n",
    "# 8\n",
    "# -5\n",
    "# 0\n",
    "# 0.5\n",
    "# None"
   ]
  },
  {
   "cell_type": "markdown",
   "metadata": {},
   "source": [
    "### 2: Sind folgende Werte gleich? \n",
    "Wenn ja, warum? Wenn nein, warum nicht?"
   ]
  },
  {
   "cell_type": "code",
   "execution_count": null,
   "metadata": {},
   "outputs": [],
   "source": [
    "# 1 und \"1\"\n",
    "# \"0\" und 0\n",
    "# False und bool(0)"
   ]
  },
  {
   "cell_type": "markdown",
   "metadata": {},
   "source": [
    "### 3: Welchen Vergleichsoperator braucht man, damit folgende Statements True zurückgeben (\"evaluate as True\")? \n",
    "Es gibt mehrere Lösungen!"
   ]
  },
  {
   "cell_type": "code",
   "execution_count": null,
   "metadata": {},
   "outputs": [],
   "source": [
    "# 4 und 5\n",
    "# 1+2 und 3 \n",
    "# len(\"hallo\") und len(\"hi\")\n",
    "# type(\"hallo\") und type(\"hi\")"
   ]
  }
 ],
 "metadata": {
  "kernelspec": {
   "display_name": "Python 3",
   "language": "python",
   "name": "python3"
  },
  "language_info": {
   "codemirror_mode": {
    "name": "ipython",
    "version": 3
   },
   "file_extension": ".py",
   "mimetype": "text/x-python",
   "name": "python",
   "nbconvert_exporter": "python",
   "pygments_lexer": "ipython3",
   "version": "3.7.4"
  }
 },
 "nbformat": 4,
 "nbformat_minor": 2
}
