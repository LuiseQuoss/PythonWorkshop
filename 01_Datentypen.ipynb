{
 "cells": [
  {
   "cell_type": "markdown",
   "metadata": {},
   "source": [
    "# Datentypen I"
   ]
  },
  {
   "cell_type": "markdown",
   "metadata": {},
   "source": [
    "## 1 Integer"
   ]
  },
  {
   "cell_type": "markdown",
   "metadata": {},
   "source": [
    "#### Nutzung von Variablen"
   ]
  },
  {
   "cell_type": "markdown",
   "metadata": {},
   "source": [
    "Jede Variable hat einen Namen und ein Wert. Mit '=' kann ich der Variablen einen Wert zuweisen. Ich habe mit diesem Schritt die Variable _\"definiert\"_. Nun ist die Variable bekannt und ich kann sie für Rechnungen nutzen."
   ]
  },
  {
   "cell_type": "code",
   "execution_count": 2,
   "metadata": {
    "scrolled": true
   },
   "outputs": [],
   "source": [
    "var1 = 2\n",
    "var2 = 3"
   ]
  },
  {
   "cell_type": "markdown",
   "metadata": {},
   "source": [
    "Die Variable _var1_ gehört zum Datentyp 'int' oder lang: __Integer__. Dieser Datentyp umfasst ganzzahlige Werte."
   ]
  },
  {
   "cell_type": "markdown",
   "metadata": {},
   "source": [
    "Mithilfe der Funktion _print()_ kann ich mir den Wert der Variablen ausgeben lassen. Dieser wird dann in der Kommandozeile angezeigt. Um mir den Datentyp einer Variablen ausgeben zu lassen, nutzen wir _type()_."
   ]
  },
  {
   "cell_type": "code",
   "execution_count": 7,
   "metadata": {},
   "outputs": [
    {
     "name": "stdout",
     "output_type": "stream",
     "text": [
      "2\n",
      "3\n",
      "<class 'int'>\n"
     ]
    }
   ],
   "source": [
    "print(var1)\n",
    "print(var2)\n",
    "print(type(var2))"
   ]
  },
  {
   "cell_type": "markdown",
   "metadata": {},
   "source": [
    "Ich kann den Wert der Variablen zu jeder Zeit verändern. Die Variable speichert dann den neuen Wert."
   ]
  },
  {
   "cell_type": "code",
   "execution_count": 8,
   "metadata": {
    "scrolled": true
   },
   "outputs": [
    {
     "name": "stdout",
     "output_type": "stream",
     "text": [
      "2\n",
      "4\n",
      "2.0\n"
     ]
    }
   ],
   "source": [
    "print(var1)\n",
    "\n",
    "var1=4\n",
    "print(var1)\n",
    "\n",
    "var1=var1/2\n",
    "print(var1)"
   ]
  },
  {
   "cell_type": "markdown",
   "metadata": {},
   "source": [
    "__Übergabe von Variablen__. Hier wird der Wert der einen Variablen auf eine andere Variable übertragen. <br>\n",
    "Zudem werden hier das erste mal __Kommentare__ verwendet. Diese werden mit der Raute __#__ angezeigt. Alles, was hinter der Raute steht, wird nicht ausgeführt! Kommentare sind wichtig für die Übersicht in Codes. Zudem können so andere Menschen dein Skript leichter verstehen."
   ]
  },
  {
   "cell_type": "code",
   "execution_count": 9,
   "metadata": {},
   "outputs": [
    {
     "name": "stdout",
     "output_type": "stream",
     "text": [
      "2.0\n",
      "3\n",
      "\n",
      "2.0\n"
     ]
    }
   ],
   "source": [
    "#Dies ist ein Python-Kommentar: diese Zeile wird nicht ausgeführt\n",
    "var3 = var1\n",
    "var4 = var2\n",
    "print(var3)\n",
    "print(var4)\n",
    "print()#leere Zeile für mehr Übersicht im Output\n",
    "\n",
    "#Wir ändern den Wert der Variablen var1: Ändert sich auch der Wert von var3?\n",
    "var1 = 1\n",
    "print(var3)"
   ]
  },
  {
   "cell_type": "markdown",
   "metadata": {},
   "source": [
    "#### Rechnungen mit Variablen"
   ]
  },
  {
   "cell_type": "markdown",
   "metadata": {},
   "source": [
    "Wie bereits erwähnt, ist es möglich mit den bekannten Variablen zu rechnen:"
   ]
  },
  {
   "cell_type": "code",
   "execution_count": 12,
   "metadata": {},
   "outputs": [
    {
     "name": "stdout",
     "output_type": "stream",
     "text": [
      "217\n"
     ]
    }
   ],
   "source": [
    "toiletten = 237\n",
    "besetzt = 20\n",
    "frei = toiletten - besetzt\n",
    "print(frei)"
   ]
  },
  {
   "cell_type": "markdown",
   "metadata": {},
   "source": [
    "Die Symbole der gängigen Rechenoperatoren in Python unterscheiden sich nicht von denen in einem Taschenrechner:"
   ]
  },
  {
   "cell_type": "code",
   "execution_count": 13,
   "metadata": {},
   "outputs": [
    {
     "name": "stdout",
     "output_type": "stream",
     "text": [
      "6\n",
      "-97\n",
      "5.0\n",
      "8\n",
      "324\n"
     ]
    }
   ],
   "source": [
    "#Rechenoperatoren\n",
    "print(2 + 4)\n",
    "print(5 - 102)\n",
    "print(20 / 4)\n",
    "print(2 ** 3)\n",
    "#auch in Python kann mit Klammern gearbeitet werden\n",
    "print((32-14)**2)"
   ]
  },
  {
   "cell_type": "markdown",
   "metadata": {},
   "source": [
    "## 2 Float"
   ]
  },
  {
   "cell_type": "markdown",
   "metadata": {},
   "source": [
    "Im Vergleich zu Integern speichern __floating point numbers__ (oder kurz: float) Zahlen mit Nachkommastellen (Gleitkommazah)."
   ]
  },
  {
   "cell_type": "code",
   "execution_count": 18,
   "metadata": {},
   "outputs": [
    {
     "name": "stdout",
     "output_type": "stream",
     "text": [
      "0\n",
      "<class 'int'>\n",
      "\n",
      "0.3333333333333333\n",
      "<class 'float'>\n"
     ]
    }
   ],
   "source": [
    "print(var1//var2) #die beiden Integer werden durch die Division automatisch zu einem float transformiert\n",
    "print(type(var1//var2)) #auch hier lassen wir uns den Typ augeben\n",
    "print()\n",
    "\n",
    "print(var1/var2)\n",
    "print(type(var1/var2))"
   ]
  },
  {
   "cell_type": "markdown",
   "metadata": {},
   "source": [
    "#### Achtung! \n",
    "Bei Float wird ab der 16. Nachkommastelle gerundet. So können unvorhergesehene Fehler auftreten:"
   ]
  },
  {
   "cell_type": "code",
   "execution_count": 21,
   "metadata": {},
   "outputs": [
    {
     "name": "stdout",
     "output_type": "stream",
     "text": [
      "False\n",
      "3.3000000000000003\n"
     ]
    }
   ],
   "source": [
    "print(1.1 + 2.2 == 3.3) #hier wird ein boolean Wert erzeugt - dazu kommen wir gleich in einem nächsten Schritt\n",
    "print(1.1+2.2)"
   ]
  },
  {
   "cell_type": "markdown",
   "metadata": {},
   "source": [
    "#### Einen Datentyp 'casten'"
   ]
  },
  {
   "cell_type": "markdown",
   "metadata": {},
   "source": [
    "Um einen Datenyp zu 'erzwingen' benutzen wir die Funktionen _int()_, _float()_ oder _str()_. Dieser Vorgang des Konvertierens nennet man auch 'cast'."
   ]
  },
  {
   "cell_type": "code",
   "execution_count": 25,
   "metadata": {
    "scrolled": false
   },
   "outputs": [
    {
     "name": "stdout",
     "output_type": "stream",
     "text": [
      "0.3333333333333333\n",
      "<class 'float'>\n",
      "0\n",
      "<class 'int'>\n",
      "\n",
      "1\n",
      "<class 'int'>\n",
      "1\n",
      "<class 'str'>\n",
      "\n",
      "1.0\n",
      "<class 'float'>\n",
      "1\n",
      "<class 'int'>\n",
      "<class 'str'>\n"
     ]
    }
   ],
   "source": [
    "print(var1/var2) #hier wird ein float kreiert\n",
    "print(type(var1/var2))\n",
    "\n",
    "#Einen Integer casten\n",
    "print(int(var1/var2)) #es wird immer abgerundet!\n",
    "print(type(int(var1/var2)))\n",
    "print() #leere Zeile für bessere Übersicht im Output\n",
    "\n",
    "#Einen String casten\n",
    "print(var1)\n",
    "print(type(var1))\n",
    "print(str(var1))\n",
    "print(type(str(var1)))\n",
    "print() #leere Zeile für bessere Übersicht im Output\n",
    "\n",
    "#Float casten\n",
    "print(float(var1))\n",
    "print(type(float(var1)))\n",
    "print(var1)\n",
    "print(type(var1))\n",
    "\n",
    "var10 = str(var1)\n",
    "print(type(var10))"
   ]
  },
  {
   "cell_type": "markdown",
   "metadata": {},
   "source": [
    "#### Nochmal Achtung\n",
    "Beim Casten von Floats in Ints wird immer abgerundet:"
   ]
  },
  {
   "cell_type": "code",
   "execution_count": null,
   "metadata": {},
   "outputs": [],
   "source": [
    "float(2.1)\n",
    "float(3.9)"
   ]
  },
  {
   "cell_type": "markdown",
   "metadata": {},
   "source": [
    "## 3 Strings\n",
    "Strings entsprechen Zeichenketten (sprich: Buchstaben oder Wörter). <br>\n",
    "Hier findet nur eine kurze Einführung zu Strings statt. Weitere Informationen zu diesem Datentyp folgen in den nächsten Stunden. "
   ]
  },
  {
   "cell_type": "code",
   "execution_count": 26,
   "metadata": {
    "scrolled": false
   },
   "outputs": [
    {
     "name": "stdout",
     "output_type": "stream",
     "text": [
      "Die Uni ist oben auf dem Berg.\n"
     ]
    }
   ],
   "source": [
    "#Wir können Strings (Text) ebenso in Variablen speichern. Die \" \" kennzeichnen einen String.\n",
    "satz = \"Die Uni ist oben auf dem Berg.\"\n",
    "print(satz)"
   ]
  },
  {
   "cell_type": "code",
   "execution_count": 27,
   "metadata": {},
   "outputs": [
    {
     "name": "stdout",
     "output_type": "stream",
     "text": [
      "\"vogel\"\n"
     ]
    }
   ],
   "source": [
    "#Realisieren von \"\" im String\n",
    "tier = '\"vogel\"'\n",
    "print(tier)"
   ]
  },
  {
   "cell_type": "markdown",
   "metadata": {},
   "source": [
    "Speichern von langen Strings, die über mehrere Zeilen gehen: <br>\n",
    "In diesem Beispiel zeigt der Backslash __\\\\__ an, dass der String über die Zeile hinaus läuft:"
   ]
  },
  {
   "cell_type": "code",
   "execution_count": 38,
   "metadata": {},
   "outputs": [
    {
     "name": "stdout",
     "output_type": "stream",
     "text": [
      "Linus Torvalds once said, \\ 'Any program is only as good as it is useful.'\n"
     ]
    }
   ],
   "source": [
    "#Strings über mehrere Zeilen Beispiel 1\n",
    "quote = \"Linus Torvalds once said, \\\n",
    "'Any program is only as good as it is useful.'\"\n",
    "print(quote)\n",
    "\n"
   ]
  },
  {
   "cell_type": "markdown",
   "metadata": {},
   "source": [
    "In dieses Beispiel fügen wir noch einen Zeilenumbruch hinzu: Einfügen von __\\\\n__"
   ]
  },
  {
   "cell_type": "code",
   "execution_count": 32,
   "metadata": {
    "scrolled": true
   },
   "outputs": [
    {
     "name": "stdout",
     "output_type": "stream",
     "text": [
      "Linus Torvalds once said, \n",
      "'Any program is only as good as it is useful.'\n"
     ]
    }
   ],
   "source": [
    "quote = \"Linus Torvalds once said, \\n\\\n",
    "'Any program is only as good as it is useful.'\"\n",
    "print(quote)"
   ]
  },
  {
   "cell_type": "markdown",
   "metadata": {},
   "source": [
    "Genauso können wir mit __\\\\t__ auch einen Tabulator einfügen."
   ]
  },
  {
   "cell_type": "code",
   "execution_count": 33,
   "metadata": {},
   "outputs": [
    {
     "name": "stdout",
     "output_type": "stream",
     "text": [
      "Linus Torvalds once said, \t'Any program is only as good as it is useful.'\n"
     ]
    }
   ],
   "source": [
    "quote = \"Linus Torvalds once said, \\t\\\n",
    "'Any program is only as good as it is useful.'\"\n",
    "print(quote)"
   ]
  },
  {
   "cell_type": "markdown",
   "metadata": {},
   "source": [
    "In diesem Beispiel kann der String über mehrere Zeilen geschrieben werden, ohne dass am Ende jeder Zeile ein Backslash steht. Das geht über die dreifache Verwendung des einfachen Anführungszeichens __'''__. <br>\n",
    "Obendrei wird genau der Zeilenumbruch in der Ausgabe verwendet, der auch im Code verwendet wurde."
   ]
  },
  {
   "cell_type": "code",
   "execution_count": 45,
   "metadata": {
    "scrolled": false
   },
   "outputs": [
    {
     "name": "stdout",
     "output_type": "stream",
     "text": [
      "Dies ist ein String in dem\n",
      "ich komfortabel über mehrere Zeilen schreiben kann, \n",
      "ohne mir über das escape Symbol \"\\\" Gedanken zu\n",
      "machen, wie in dem obigen Beispiel.\n",
      "Wie ihr gleich sehen werdet, ist das Format des\n",
      "Strings wie er hier geschrieben steht in der \n",
      "Ausgabe erhalten.\n",
      "\n"
     ]
    }
   ],
   "source": [
    "#Strings über mehrere Zeilen Beispiel 2\n",
    "multiline_string = '''Dies ist ein String in dem\n",
    "ich komfortabel über mehrere Zeilen schreiben kann, \n",
    "ohne mir über das escape Symbol \"\\\\\" Gedanken zu\n",
    "machen, wie in dem obigen Beispiel.\n",
    "Wie ihr gleich sehen werdet, ist das Format des\n",
    "Strings wie er hier geschrieben steht in der \n",
    "Ausgabe erhalten.\n",
    "'''\n",
    "\n",
    "print(multiline_string)"
   ]
  },
  {
   "cell_type": "markdown",
   "metadata": {},
   "source": [
    "__Kombinieren von Strings__ <br>\n",
    "Mit dem \"plus\" Symbol können wir zwei Strings zu einem zusammenfassen - wir nennen das concatenation:"
   ]
  },
  {
   "cell_type": "code",
   "execution_count": 48,
   "metadata": {
    "scrolled": false
   },
   "outputs": [
    {
     "name": "stdout",
     "output_type": "stream",
     "text": [
      "annabrenner\n",
      "anna  brenner\n",
      "brennerbrenner\n"
     ]
    }
   ],
   "source": [
    "first_name = 'anna'\n",
    "last_name = 'brenner'\n",
    "\n",
    "# kombiniere die beiden Variablen \n",
    "full_name = first_name + last_name\n",
    "print(full_name)\n",
    "\n",
    "# verbessertes Beispiel mit Leerzeichen\n",
    "whitespace = ' '\n",
    "full_name = first_name + whitespace * 2 + last_name #es ist möglich Strings zu \"multiplizieren\" mit *\n",
    "print(full_name)\n",
    "\n",
    "#erneutes Beispiel für eine zweifache Ausgabe eines Strings\n",
    "print(last_name*2)"
   ]
  },
  {
   "cell_type": "markdown",
   "metadata": {},
   "source": [
    "Man kann Strings beispielsweise mit Integern in der Ausage verknüpfen. Hierzu verknüpfen wir erneut die Strings mit dem Plussymbol __+__ und fügen die Integerwerte mithilfe eines cast dazwischen ein."
   ]
  },
  {
   "cell_type": "code",
   "execution_count": 3,
   "metadata": {
    "scrolled": true
   },
   "outputs": [
    {
     "name": "stdout",
     "output_type": "stream",
     "text": [
      "Die Addition von 2 und 3 ergibt 5\n"
     ]
    }
   ],
   "source": [
    "#Beispiel mit einer Rechenaufgabe\n",
    "result = var1 + var2\n",
    "print(\"Die Addition von \" + str(var1) + \" und \" + str(var2) + \" ergibt \" + str(result))"
   ]
  },
  {
   "cell_type": "markdown",
   "metadata": {},
   "source": [
    "## 4 Bools und Truthiness"
   ]
  },
  {
   "cell_type": "markdown",
   "metadata": {},
   "source": [
    "Neben Zahlen (Integers, Floats) und Strings gibt es noch den einfachen Datentyp Boolean. In diesem werden Wahrheitswerte gespeichert. Es gibt zwei Wahrheitswerte, wahr und falsch (außerdem gibt es noch den None-Type, der hier der Vollständigkeit halber mit erwähnt wird):"
   ]
  },
  {
   "cell_type": "code",
   "execution_count": null,
   "metadata": {},
   "outputs": [],
   "source": [
    "#Speichern der Werte in Variablen\n",
    "first_bool = True\n",
    "second_bool = False\n",
    "first_string = \"True\"\n",
    "secon_string = \"False\"\n",
    "nothing = None\n",
    "\n",
    "#Ausgabe der Variablen via print()\n",
    "print(type(first_bool))\n",
    "print(type(first_string))\n",
    "print(type(nothing))"
   ]
  },
  {
   "cell_type": "markdown",
   "metadata": {},
   "source": [
    "Man kann Bools auf unterschiedliche Arten erhalten. Zum Einen dadurch, dass man den Wahrheitswert eines anderen Datentyps ermittelt..."
   ]
  },
  {
   "cell_type": "code",
   "execution_count": null,
   "metadata": {},
   "outputs": [],
   "source": [
    "print(bool(1))\n",
    "print(bool(0))\n",
    "print(bool(\"Monty\"))"
   ]
  },
  {
   "cell_type": "markdown",
   "metadata": {},
   "source": [
    "... zum Anderen, indem man einen Logischen Operator anwendet:"
   ]
  },
  {
   "cell_type": "code",
   "execution_count": null,
   "metadata": {},
   "outputs": [],
   "source": [
    "print(first_string == first_bool)\n",
    "print(1 >= 4)\n",
    "print(4 < 10)\n",
    "print(True == True)\n",
    "print(True != True)\n",
    "print(\"hallo\" != \"hello\")"
   ]
  },
  {
   "cell_type": "markdown",
   "metadata": {},
   "source": [
    "Achtung!!! Das spezielle Verhalten ist spezifisch für Python und variiert von Programmiersprache zu Programmiersprache. Falls ihr es mal mit einer anderen Sprache zu tun habt, solltet ihr auf alle Fälle zuerst testen, wie es sich dort verhält, um Fehler zu vermeiden."
   ]
  },
  {
   "cell_type": "markdown",
   "metadata": {},
   "source": [
    "## Exkurs: Fehler"
   ]
  },
  {
   "cell_type": "markdown",
   "metadata": {},
   "source": [
    "#### Fehler: Name-Error\n",
    "Wenn man einen Variablenname angibt, der nicht definiert ist (dem kein Wert zugewiesen ist), kann das einen __NameError__ hervorrufen. <br> Im nachfolgenden Beispiel wird zwar ein Wert zugewiesen. Allerdings gibt es einen Tipfehler, sodass ein NameError entsteht."
   ]
  },
  {
   "cell_type": "code",
   "execution_count": null,
   "metadata": {
    "scrolled": false
   },
   "outputs": [],
   "source": [
    "langerVariablenName = 12\n",
    "print(langerVariabelnName)"
   ]
  },
  {
   "cell_type": "markdown",
   "metadata": {},
   "source": [
    "#### Fehler: Type-Error\n",
    "Ebenso können nicht alle Datentypen mit den gleichen Funktionen genutzt werden. Kann python eine Aktion nicht ausführen, da der Datentyp nicht stimmt, ergibt das einen __TypeError__. <br>\n",
    "Im nachfolgenden Beispiel wird versucht die Division auf einen String anzuwenden. Daraufhin \"beschwert\" sich python, dass dieser Typ nicht unterstützt wird. Die Ausgabe wird deshalb abgebrochen."
   ]
  },
  {
   "cell_type": "code",
   "execution_count": null,
   "metadata": {
    "scrolled": true
   },
   "outputs": [],
   "source": [
    "v1 = 2\n",
    "v2 = 'a'\n",
    "print(type(v2)) #diese Zeile wird noch ausgegeben\n",
    "print(v1/v2) #hier entsteht ein Fehler - keine Ausgabe dieser und aller nachfolgenden Zeilen"
   ]
  },
  {
   "cell_type": "markdown",
   "metadata": {},
   "source": [
    "## 5 Input der Nutzer*innen verarbeiten"
   ]
  },
  {
   "cell_type": "markdown",
   "metadata": {},
   "source": [
    "Mit der Funktion _input()_ ist es möglich Eingaben von Nutzer*innen zu verarbeiten. Dabei wird der Text innerhalb der Klammern augegeben. Darüber kann der gewünschte Input näher beschrieben werden:"
   ]
  },
  {
   "cell_type": "code",
   "execution_count": null,
   "metadata": {},
   "outputs": [],
   "source": [
    "eingabe = input(\"Geben Sie eine Zahl ein: \")\n",
    "string_template = \"Sie werden {} Kinder bekommen.\"\n",
    "print(string_template.format(eingabe))"
   ]
  },
  {
   "cell_type": "markdown",
   "metadata": {},
   "source": [
    "__Achtung:__ auch wenn eine Zahl ausgegeben wird, ist der Datentyp aller Eingaben erstmal ein String:"
   ]
  },
  {
   "cell_type": "code",
   "execution_count": null,
   "metadata": {},
   "outputs": [],
   "source": [
    "print(type(eingabe))"
   ]
  },
  {
   "cell_type": "markdown",
   "metadata": {},
   "source": [
    "Wir haben bereits weiter oben über das Casten von Datentypen gesprochen. An dieser Stelle kann diese Funktion sehr hilfreich sein. Schauen wir uns ein etwas komplexeres Beispiel an:"
   ]
  },
  {
   "cell_type": "code",
   "execution_count": null,
   "metadata": {},
   "outputs": [],
   "source": [
    "jahr = input(\"In welchem Jahr wurden Sie geboren? \") #es kann auch bereits an dieser Stelle gecastet werden\n",
    "jahr_int = int(jahr)\n",
    "alter = 2019-jahr_int #auch hier wäre ein Cast möglich\n",
    "print(\"Sie sind \" + str(alter) + \" Jahre alt.\")"
   ]
  },
  {
   "cell_type": "markdown",
   "metadata": {},
   "source": [
    "## 6 Übungen"
   ]
  },
  {
   "cell_type": "markdown",
   "metadata": {},
   "source": [
    "### Übung 1\n",
    "Berechne wie viele Sekunden du alt bist. Nutze Variablen und gebe das Ergebnis in Form eines schön formatierten Strings aus."
   ]
  },
  {
   "cell_type": "markdown",
   "metadata": {},
   "source": [
    "### Übung 2"
   ]
  },
  {
   "cell_type": "markdown",
   "metadata": {},
   "source": [
    "Schreibe ein Programm, welches die Resultate von Rechnungen ausgibt (print()). Benutze die standard Rechenoperationen ($+, - , *, /, **$). Möglich wäre beispielsweise die Umrechnung von Grad Celsius in Kelvin und/oder Fahrenheit. <br>($K = C + 273.15$ und $F = C x 1.8 + 32$)<br>\n",
    "<br>\n",
    "__Optional:__ Lasse die/den NutzerIn über input() eine Temperatur in Grad Celsius eingeben und verarbeite diesen Wert. "
   ]
  },
  {
   "cell_type": "markdown",
   "metadata": {},
   "source": [
    "### Übung 3"
   ]
  },
  {
   "cell_type": "markdown",
   "metadata": {},
   "source": [
    "Realisiere eine Rechnung \"ohne Rest\" (int()) und lass dir den Rest in einer extra Zeile ausgeben. Finde hierfür heraus wie der Modulus __%__ funktioniert. (Tipp: Analysiere die Ergenisse bei der Eingabe von 7/5 und 7%5)"
   ]
  },
  {
   "cell_type": "markdown",
   "metadata": {},
   "source": [
    "### Übung 4\n",
    "Überlege, welchen Datentyp die Ergebnisse folgender Operationen haben:\n",
    "\n",
    "* 3/2 \n",
    "* 1*5 \n",
    "* 3.0*2 \n",
    "* 2/2\n",
    "* 1+4\n",
    "* 9-3.0\n",
    "* \"mi\"*3"
   ]
  },
  {
   "cell_type": "markdown",
   "metadata": {},
   "source": [
    "### 1: Welches Ergebnis liefert bool() bei den folgenden Werten:\n",
    "\"False\"\n",
    "True\n",
    "\"Codesses\"\n",
    "\"\"\n",
    "8\n",
    "-5\n",
    "0\n",
    "0.5\n",
    "None"
   ]
  },
  {
   "cell_type": "markdown",
   "metadata": {},
   "source": [
    "### 2: Sind folgende Werte gleich? \n",
    "#### Wenn ja, warum? Wenn nein, warum nicht?\n",
    "- 1 und \"1\"\n",
    "\"0\" und 0\n",
    "False und bool(0)"
   ]
  },
  {
   "cell_type": "markdown",
   "metadata": {},
   "source": [
    "### 3: Welchen Vergleichsoperator braucht man, damit folgende Statements True zurückgeben (\"evaluate as True\")?\n",
    "#### Es gibt mehrere Lösungen!\n",
    "4 und 5\n",
    "1+2 und 3 \n",
    "len(\"hallo\") und len(\"hi\")\n",
    "type(\"hallo\") und type(\"hi\")"
   ]
  },
  {
   "cell_type": "markdown",
   "metadata": {},
   "source": [
    "## 6 Quellen:\n",
    "https://github.com/JanaLasser/python-einfuehrung/blob/master/01-datentypen.ipynb <br>\n",
    "http://ruby-for-beginners.rubymonstas.org/exercises/numbers.html <br>\n"
   ]
  }
 ],
 "metadata": {
  "kernelspec": {
   "display_name": "Python 3",
   "language": "python",
   "name": "python3"
  },
  "language_info": {
   "codemirror_mode": {
    "name": "ipython",
    "version": 3
   },
   "file_extension": ".py",
   "mimetype": "text/x-python",
   "name": "python",
   "nbconvert_exporter": "python",
   "pygments_lexer": "ipython3",
   "version": "3.7.4"
  }
 },
 "nbformat": 4,
 "nbformat_minor": 2
}
