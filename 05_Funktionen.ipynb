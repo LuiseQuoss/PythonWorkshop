{
 "cells": [
  {
   "cell_type": "markdown",
   "metadata": {},
   "source": [
    "# Funktionen I"
   ]
  },
  {
   "cell_type": "markdown",
   "metadata": {},
   "source": [
    "Wollen wir Aktionen, oder Abfolgen von Aktionen mehrfach nutzen, können wir copy & paste verwenden. Doch dann wird der Code schnell unübersichtlich. Deshalb nutzen wir sogenannte __Funktionen__."
   ]
  },
  {
   "cell_type": "markdown",
   "metadata": {},
   "source": [
    "## Anatomie von Funktionen"
   ]
  },
  {
   "cell_type": "markdown",
   "metadata": {},
   "source": [
    "Immer wenn wir ein Kommando gefolgt von runden Klammern wie z.B. ```print()``` benutzt haben, handelt es sich um eine Funktion.\n",
    "* Funktionen sind eine bestimmte Menge an Aktionen denen wir einen Namen geben.\n",
    "* Wir können die Aktionen ausführen, indem wir sie \"aufrufen\" (engl. \"to call a function\"), also ihren Namen gefolgt von runden Klammern benutzen.\n",
    "* Funktionen können Werte (z.B. auch gespeichert in Variablen) als Argumente übergeben bekommen und auf diesen Argumenten (die innerhalb der Funktion dann Parameter heißen) dann Aktionen ausführen.\n",
    "* Funktionen können Daten an den Rest des Codes \"zurückgeben\"."
   ]
  },
  {
   "cell_type": "markdown",
   "metadata": {},
   "source": [
    "###### Beispiel für eine Funktion"
   ]
  },
  {
   "cell_type": "code",
   "execution_count": 1,
   "metadata": {
    "scrolled": true
   },
   "outputs": [
    {
     "name": "stdout",
     "output_type": "stream",
     "text": [
      "Maschinendeck\n"
     ]
    }
   ],
   "source": [
    "word = 'Maschinendeck'\n",
    "print(word)"
   ]
  },
  {
   "cell_type": "markdown",
   "metadata": {},
   "source": [
    "* ```print``` ist der Name der Funktion\n",
    "* \"word\" ist die Variable, die wir der Funktion als Argument übergeben\n",
    "* die Ausgabe auf der Kommandozeile ist die Aktion der Funktion: das Argument wird also ausgegeben"
   ]
  },
  {
   "cell_type": "markdown",
   "metadata": {},
   "source": [
    "###### Weiteres Beispiel für eine Funktion"
   ]
  },
  {
   "cell_type": "code",
   "execution_count": 2,
   "metadata": {
    "scrolled": true
   },
   "outputs": [
    {
     "name": "stdout",
     "output_type": "stream",
     "text": [
      "6\n"
     ]
    }
   ],
   "source": [
    "numbers = [1, 2, 3]\n",
    "summe = sum(numbers)\n",
    "\n",
    "print(summe)"
   ]
  },
  {
   "cell_type": "markdown",
   "metadata": {},
   "source": [
    "__Wichtig:__ wir können nicht irgendwelche Argumente an eine Funktion übergeben. Es ergibt bspw. keinen Sinn, eine Liste mit Strings an die Funktion ```sum()``` zu übergeben:"
   ]
  },
  {
   "cell_type": "code",
   "execution_count": 3,
   "metadata": {
    "scrolled": true
   },
   "outputs": [
    {
     "ename": "TypeError",
     "evalue": "unsupported operand type(s) for +: 'int' and 'str'",
     "output_type": "error",
     "traceback": [
      "\u001b[0;31m---------------------------------------------------------------------------\u001b[0m",
      "\u001b[0;31mTypeError\u001b[0m                                 Traceback (most recent call last)",
      "\u001b[0;32m<ipython-input-3-f2e6eb2051e3>\u001b[0m in \u001b[0;36m<module>\u001b[0;34m\u001b[0m\n\u001b[0;32m----> 1\u001b[0;31m \u001b[0msum\u001b[0m\u001b[0;34m(\u001b[0m\u001b[0;34m[\u001b[0m\u001b[0;34m'a'\u001b[0m\u001b[0;34m,\u001b[0m \u001b[0;34m'b'\u001b[0m\u001b[0;34m,\u001b[0m \u001b[0;34m'c'\u001b[0m\u001b[0;34m]\u001b[0m\u001b[0;34m)\u001b[0m\u001b[0;34m\u001b[0m\u001b[0m\n\u001b[0m",
      "\u001b[0;31mTypeError\u001b[0m: unsupported operand type(s) for +: 'int' and 'str'"
     ]
    }
   ],
   "source": [
    "sum(['a', 'b', 'c'])"
   ]
  },
  {
   "cell_type": "markdown",
   "metadata": {},
   "source": [
    "## Funktionen importieren"
   ]
  },
  {
   "cell_type": "markdown",
   "metadata": {},
   "source": [
    "Viele Funktionalitäten von Python sind zwar schon in der Installation enthalten, müssen aber für das Programm erst bereitgestellt werden, indem man sie importiert."
   ]
  },
  {
   "cell_type": "code",
   "execution_count": 4,
   "metadata": {},
   "outputs": [
    {
     "ename": "NameError",
     "evalue": "name 'date' is not defined",
     "output_type": "error",
     "traceback": [
      "\u001b[0;31m---------------------------------------------------------------------------\u001b[0m",
      "\u001b[0;31mNameError\u001b[0m                                 Traceback (most recent call last)",
      "\u001b[0;32m<ipython-input-4-767e1a024f11>\u001b[0m in \u001b[0;36m<module>\u001b[0;34m\u001b[0m\n\u001b[1;32m      1\u001b[0m \u001b[0;31m# Welcher Tag ist heute?\u001b[0m\u001b[0;34m\u001b[0m\u001b[0;34m\u001b[0m\u001b[0m\n\u001b[0;32m----> 2\u001b[0;31m \u001b[0mprint\u001b[0m\u001b[0;34m(\u001b[0m\u001b[0mdate\u001b[0m\u001b[0;34m.\u001b[0m\u001b[0mtoday\u001b[0m\u001b[0;34m(\u001b[0m\u001b[0;34m)\u001b[0m\u001b[0;34m)\u001b[0m\u001b[0;34m\u001b[0m\u001b[0m\n\u001b[0m",
      "\u001b[0;31mNameError\u001b[0m: name 'date' is not defined"
     ]
    }
   ],
   "source": [
    "# Welcher Tag ist heute?\n",
    "print(date.today())"
   ]
  },
  {
   "cell_type": "code",
   "execution_count": 5,
   "metadata": {},
   "outputs": [
    {
     "name": "stdout",
     "output_type": "stream",
     "text": [
      "2019-09-16\n"
     ]
    }
   ],
   "source": [
    "# Mit Import wird uns die Funktion zur Verfügung gestellt\n",
    "from datetime import date\n",
    "print(date.today())"
   ]
  },
  {
   "cell_type": "code",
   "execution_count": 6,
   "metadata": {},
   "outputs": [
    {
     "data": {
      "text/plain": [
       "2019"
      ]
     },
     "execution_count": 6,
     "metadata": {},
     "output_type": "execute_result"
    }
   ],
   "source": [
    "# Welches Jahr haben wir?\n",
    "from datetime import datetime as dt # 'as dt' ist Abkürzung zum späteren Benutzen\n",
    "dt.now().year\n"
   ]
  },
  {
   "cell_type": "markdown",
   "metadata": {},
   "source": [
    "## Syntax zur Erstellung eigener Funktionen"
   ]
  },
  {
   "cell_type": "markdown",
   "metadata": {},
   "source": [
    "Über die Nutzung bestehender Funktionen hinaus besteht auch die Möglichkeit, sich selbst Funktionen zu bauen. \n",
    "Um eine komplett neue Funktion zu definieren, benutzen wir das ```def``` Keyword. <br>\n",
    "__Wichtig__ ist auch zu beachten, dass das der Funktionskopf mit einem __Doppelpunkt__ abgeschlossen wird und der __Funktionskörper eingerückt__ wird, um ihn vom Rest des Codes zu trennen."
   ]
  },
  {
   "cell_type": "code",
   "execution_count": null,
   "metadata": {},
   "outputs": [],
   "source": [
    "# dies ist der Kopf der Funktion\n",
    "# hier wird der Name und die Anzahl der \n",
    "# Argumente definiert\n",
    "\n",
    "def print_cube(argument):\n",
    "    # dies ist der Körper der Funktion\n",
    "    # hier werden die Aktionen definiert\n",
    "    result = argument * argument * argument\n",
    "    print(result)\n",
    "    \n",
    "def print_quadrat(argument):\n",
    "    ergebnis = argument * argument\n",
    "    print(ergebnis)"
   ]
  },
  {
   "cell_type": "code",
   "execution_count": null,
   "metadata": {
    "scrolled": true
   },
   "outputs": [],
   "source": [
    "arg = 3\n",
    "print_cube(arg)\n",
    "print_quadrat(arg)"
   ]
  },
  {
   "cell_type": "markdown",
   "metadata": {},
   "source": [
    "__Wichtig:__ durch das Ausführen der Funktion verändert sich der Wert der Variablen, die wir der Funktion als Argument geben, nicht:"
   ]
  },
  {
   "cell_type": "code",
   "execution_count": null,
   "metadata": {},
   "outputs": [],
   "source": [
    "print_cube(arg)\n",
    "print(arg)"
   ]
  },
  {
   "cell_type": "markdown",
   "metadata": {},
   "source": [
    "###### Vorteile von Funktionen:"
   ]
  },
  {
   "cell_type": "markdown",
   "metadata": {},
   "source": [
    "* Instruktionen werden nur einmal geschrieben, in eine Funktion verpackt und dann wiederverwendet wo immer sie gebraucht werden $\\rightarrow$ das spart Arbeitszeit.\n",
    "* Instruktionen an einem Ort zu versammeln macht es einfacher, den Code fehlerfrei zu halten.\n",
    "* Veränderungen müssen immer nur an einem Ort durchgeführt werden und wirken im ganzen Code.\n",
    "* Funktionen können den Code einfacher verständlich und eleganter machen - und das ist wichtig!"
   ]
  },
  {
   "cell_type": "markdown",
   "metadata": {},
   "source": [
    "## Geltungsbereich von Variablen"
   ]
  },
  {
   "cell_type": "markdown",
   "metadata": {},
   "source": [
    "Innerhalb der Funktion haben wir die Variable \"result\" definiert. Diese Variable ist dem Programm außerhalb der Funktion nicht bekannt! Lasst uns das überprüfen:"
   ]
  },
  {
   "cell_type": "code",
   "execution_count": null,
   "metadata": {},
   "outputs": [],
   "source": [
    "# die Funktion steht hier nur zur Erinnerung\n",
    "# noch einmal, eigentlich ist sie unserem \n",
    "# Programm schon von der Definition oben bekannt!\n",
    "\n",
    "def print_cube(argument):\n",
    "    result = argument * argument * argument\n",
    "    print(result)\n",
    "\n",
    "x = 12\n",
    "print_cube(x)\n",
    "print(result)"
   ]
  },
  {
   "cell_type": "markdown",
   "metadata": {},
   "source": [
    "Wir nennen das Innere der Funktion den __Scope__ (dt. etwa _Geltungsbereich_ ) der Funktion. <br>\n",
    "Innerhalb einer Funktion sucht der Interpreter zuerst Variablen den Namen bekannt, die wir im Funktionskopf oder innerhalb des Anweisungsblocks definiert haben. ```print_cube()``` kennt also die Variable \"argument\" und wir können sie im Funktionskörper benutzen.<br>\n",
    "__Wichtig:__ Man kann eine Funktion mit einem Wert oder einer Variablen aufrufen. Der Name dieser Variablen im Scope außerhalb der Funktion hat nicht mit dem Namen der Variable innerhalb der Funktion zu tun.<br>\n",
    "Man spricht auch vom lokalen bzw. globalen Scope der Variablen: In unserem Beispiel ist ```result``` lokal in der Funktion ```print_cube``` definiert, ```x``` ist im globalen Scope des Pythonskripts (in diesem Falle) definiert."
   ]
  },
  {
   "cell_type": "markdown",
   "metadata": {},
   "source": [
    "## Rückgabewerte"
   ]
  },
  {
   "cell_type": "markdown",
   "metadata": {},
   "source": [
    "Manchmal möchten wir den Wert einer Variablen aus dem Namespace der Funktion hinaus in den globalen Namespace befördern, um ihn dort weiter zu verwenden. Dafür können wir einer Funktion einen sog. _Rückgabewert_ geben. Das tun wir mit dem ```return``` Keyword:"
   ]
  },
  {
   "cell_type": "code",
   "execution_count": null,
   "metadata": {},
   "outputs": [],
   "source": [
    "# die gleiche Funktion wie vorhin, aber\n",
    "# statt cube auf der Kommandozeile auszugeben\n",
    "# gibt sie cube an den nachfolgenden Code weiter\n",
    "def get_cube(argument):\n",
    "    result = argument * argument * argument\n",
    "    \n",
    "    # hier wird cube \"zurückgegeben\"\n",
    "    return result"
   ]
  },
  {
   "cell_type": "markdown",
   "metadata": {},
   "source": [
    "Um die Funktion zu testen, müssen wir sie wieder aufrufen:"
   ]
  },
  {
   "cell_type": "code",
   "execution_count": null,
   "metadata": {},
   "outputs": [],
   "source": [
    "# definiere eine Variable\n",
    "x = 10\n",
    "\n",
    "# übergib sie an die Funktion und weise\n",
    "# den Rückgabewert einer neuen Variablen zu\n",
    "anderer_name = get_cube(x)\n",
    "#Weiterverwendung der Variablen\n",
    "anderer_name = anderer_name + 2\n",
    "\n",
    "# überprüfe das Ergebnis\n",
    "print(anderer_name)"
   ]
  },
  {
   "cell_type": "markdown",
   "metadata": {},
   "source": [
    "## Argumente"
   ]
  },
  {
   "cell_type": "markdown",
   "metadata": {},
   "source": [
    "Bis jetzt haben wir Funktionen immer entweder ein Argument mitgegeben. Wir müssen uns aber nicht darauf beschränken. Es gibt kein Limit für die Anzahl der Argumente, die wir einer Funktion mitgeben können!"
   ]
  },
  {
   "cell_type": "markdown",
   "metadata": {},
   "source": [
    "#### Funktionen ohne Argumente\n",
    "Es ist auch möglich, Funktionen ohne Argumente zu definieren. Siehe im folgenden Beispiel:"
   ]
  },
  {
   "cell_type": "code",
   "execution_count": null,
   "metadata": {
    "scrolled": false
   },
   "outputs": [],
   "source": [
    "# eine Funktion, die einen Hilfs-Text ausgibt\n",
    "def print_help():\n",
    "    \n",
    "    # merke: die Funktion hat kein Argument\n",
    "    print('''*** important keyboard shortcuts: ***\n",
    "             cell to markdown - m\n",
    "             cell to code - y''')\n",
    "    \n",
    "print_help()"
   ]
  },
  {
   "cell_type": "markdown",
   "metadata": {},
   "source": [
    "#### Funktionen mit mehreren Argumenten"
   ]
  },
  {
   "cell_type": "code",
   "execution_count": null,
   "metadata": {},
   "outputs": [],
   "source": [
    "# eine Funktion mit zwei Variablen\n",
    "def mittagessen(hauptgericht, beilage):\n",
    "    ''' Return appetizing german description of lunch menu '''\n",
    "    return 'heute gibt es ' + hauptgericht + ' mit ' + beilage +' als beilage zu essen'\n",
    "    \n",
    "print(mittagessen('curry', 'reis'))\n",
    "print(mittagessen('schnitzel', 'pommes'))"
   ]
  },
  {
   "cell_type": "markdown",
   "metadata": {},
   "source": [
    "An diesem Beispiel sieht man zwei weitere Dinge:\n",
    "\n",
    "1. Der durch dreifache Anführungszeichen gekennzeichnete String heißt __Docstring__. Über ihn kann man automatisiert eine Dokumentation der Funktion hinterlegen (Dokumentation von Software meist genauso nervig wie wichtig.)\n",
    "\n",
    "2. Man kann Funktionen auch geschachtelt aufrufen. Dabei wird von innen nach außen evaluiert:<br>\n",
    "In der Zeile ```print(mittagessen('curry', 'reis'))``` wird zuerst die Funktion ```mittagessen``` mit zwei Strings als Argumenten aufgerufen und der zurückgegebene String wird zum Argument für die ```print```-Funktion."
   ]
  },
  {
   "cell_type": "code",
   "execution_count": null,
   "metadata": {},
   "outputs": [],
   "source": [
    "# Beispiel für Docstring-Aufruf:\n",
    "print(mittagessen.__doc__)"
   ]
  },
  {
   "cell_type": "markdown",
   "metadata": {},
   "source": [
    "__Achtung!__ Die übergebenen Argumente sind __positionsabhängig__. Siehe im folgenden Beispiel:"
   ]
  },
  {
   "cell_type": "code",
   "execution_count": null,
   "metadata": {
    "scrolled": true
   },
   "outputs": [],
   "source": [
    "def beschreibe_person(vorname, nachname, alter):\n",
    "\n",
    "    # HINWEIS: title() schreibt einen String groß\n",
    "    print(\"Vorname:\", vorname.title())\n",
    "    print(\"Nachname:\", nachname.title())\n",
    "    print(\"Alter:\", (alter))\n",
    "\n",
    "#hier gibt es kein Problem\n",
    "beschreibe_person('inga', 'schmidt', 25)"
   ]
  },
  {
   "cell_type": "markdown",
   "metadata": {},
   "source": [
    "In diesem Beispiel wird das erste Argument der Vorname, das zweite Argument der Nachname und das dritte Argument das Alter."
   ]
  },
  {
   "cell_type": "code",
   "execution_count": null,
   "metadata": {
    "scrolled": true
   },
   "outputs": [],
   "source": [
    "#Hier vertauschen wir absichtlich Vor- und Nachname\n",
    "#Das ist zwar doof, aber führt zu keinem Problem:\n",
    "beschreibe_person('müller', 'hans', 25)"
   ]
  },
  {
   "cell_type": "code",
   "execution_count": null,
   "metadata": {
    "scrolled": true
   },
   "outputs": [],
   "source": [
    "#Hier vertauschen wir absichtlich Vorname und Alter\n",
    "#Das führt zu einem Problem, da die Funktion title() nur für Strings ausgelegt ist\n",
    "beschreibe_person(25, 'müller', 'hans')"
   ]
  },
  {
   "cell_type": "markdown",
   "metadata": {},
   "source": [
    "Was passiert, wenn wir aus Versehen ein __Argument vergessen__?"
   ]
  },
  {
   "cell_type": "code",
   "execution_count": null,
   "metadata": {},
   "outputs": [],
   "source": [
    "#Ein Argument zu wenig wird übergeben\n",
    "beschreibe_person('moni', 'dietrich')"
   ]
  },
  {
   "cell_type": "code",
   "execution_count": null,
   "metadata": {},
   "outputs": [],
   "source": [
    "#Andersherum: ein Argument zu viel\n",
    "beschreibe_person('moni', 'dietrich', 3, 3)"
   ]
  },
  {
   "cell_type": "markdown",
   "metadata": {},
   "source": [
    "## Default Werte"
   ]
  },
  {
   "cell_type": "markdown",
   "metadata": {},
   "source": [
    "Manchmal möchten wir die Wahl haben, ob wir einer Funktion einen spezifischen Wert mitgeben wollen oder lieber ein vordefiniertes default-Verhalten haben möchten. Dafür können wir sog. _default Argumente_ definieren:\n",
    "Manchmal möchte man die Möglichkeit haben, einen Parameter innerhalb der Funktion zu ändern, will diesen aber nicht immer explizit angeben müssen. Dafür können vordefinierte Default-Werte für Parameter im Funktionskopf angegeben werden. Dadurch werden diese Argumente optional: wenn der Funktionsaufruf sie weglässt, wird einfach auf den Defaultwert zurückgegriffen."
   ]
  },
  {
   "cell_type": "code",
   "execution_count": null,
   "metadata": {
    "scrolled": true
   },
   "outputs": [],
   "source": [
    "# die Funktion gibt eine Nachricht an \"name\" aus\n",
    "# wenn \"name\" nicht spezifiziert ist, wird die \n",
    "# Nachricht an \"everyone\" ausgegeben (default-Verhalten)\n",
    "def thank_you(name='everyone'):\n",
    "    return \"You are doing good work \" + name + \" !\\n\"\n",
    "    \n",
    "print(thank_you('Bianca'))\n",
    "print(thank_you('Katrin'))\n",
    "print(thank_you())"
   ]
  },
  {
   "cell_type": "markdown",
   "metadata": {},
   "source": [
    "Natürlich können wir obligatorische und default-Argumente auch mischen.  \n",
    "\n",
    "__Wichtig:__ zuerst müssen immer die obligatorischen, dann erst die default-Argumente im Funktionskopf stehen!"
   ]
  },
  {
   "cell_type": "code",
   "execution_count": null,
   "metadata": {},
   "outputs": [],
   "source": [
    "# eine Funktion, die ein Basis mit einem\n",
    "# Exponenten potenziert. Der Exponent ist\n",
    "# als default-Argument vorgegeben\n",
    "def power(base, exponent=2):\n",
    "    return base ** exponent\n",
    "\n",
    "# hier übergeben wir sowohl Basis als auch\n",
    "# Exponent an die Funktion\n",
    "print(power(2,4))\n",
    "\n",
    "# hier übergeben wir nur die Basis, der\n",
    "# Exponent dann ist automatisch 2\n",
    "print(power(2))\n"
   ]
  },
  {
   "cell_type": "markdown",
   "metadata": {},
   "source": [
    "### Für Funktionen II:\n",
    "keyword-argumente # Hä?"
   ]
  },
  {
   "cell_type": "markdown",
   "metadata": {},
   "source": [
    "### Übungen"
   ]
  },
  {
   "cell_type": "markdown",
   "metadata": {},
   "source": [
    "1. Schreibe eine Funktion, die zwei Zahlen als Argumente erhält und ihre Differenz auf der Kommandozeile ausgibt."
   ]
  },
  {
   "cell_type": "markdown",
   "metadata": {},
   "source": [
    "2. Schreibe eine Funktion, die eine Liste mit Zahlen als ein einzelnes Argument erhält und die Summe der Quadrate der Zahlen zurückgibt (nutze ```return```)."
   ]
  },
  {
   "cell_type": "markdown",
   "metadata": {},
   "source": [
    "3. Erinnere dich an die Übung aus der letzten Übung: <br>\n",
    "    Iteriere über eine Liste ```[\"1\", \"3\", \"5\", \"7\"]``` (oder jede beliebig lange Sequenz ungerader natürlicher Zahlen) und verändere sie so, dass am Ende ```[\"<3\", \"<3<3<3\", \"<3<3<3<3<3\". \"<3<3<3<3<3<3<3\"]``` (bzw. das Äquivalent in Herzchen) herauskommt. <br>\n",
    "    Schreibe eine Funktion die eine Zahl als Argument übernimmt und entsprechend dieser eine Anzahl an Herzchen auf der Kommandozeile ausgibt\n"
   ]
  },
  {
   "cell_type": "markdown",
   "metadata": {},
   "source": [
    "4. a) Schreibe eine Funktion, die fünf Argumente (x, a, b, c, d) erhält und aus ihnen ein Polynom vom Grad drei $f(x) = ax^3 + bx^2 + cx + d$ berechnet und den Wert zurückgibt. <br>\n",
    "    b) Modifiziere die Funktion so, dass die Koeffizienten a, b, c und d default-Werte bekommen."
   ]
  },
  {
   "cell_type": "markdown",
   "metadata": {},
   "source": [
    "5. Schreibe eine Funktion ```schaltjahr```, die eine Jahreszahl als Argument nimmt und zurückgibt, ob dieses Jahr ein Schaltjahr ist/war oder nicht (am besten als ```bool```). Wenn kein Jahr als Argument angegeben wird, soll aktuelle Jahr als Default"
   ]
  }
 ],
 "metadata": {
  "kernelspec": {
   "display_name": "Python 3",
   "language": "python",
   "name": "python3"
  },
  "language_info": {
   "codemirror_mode": {
    "name": "ipython",
    "version": 3
   },
   "file_extension": ".py",
   "mimetype": "text/x-python",
   "name": "python",
   "nbconvert_exporter": "python",
   "pygments_lexer": "ipython3",
   "version": "3.5.2"
  }
 },
 "nbformat": 4,
 "nbformat_minor": 2
}
