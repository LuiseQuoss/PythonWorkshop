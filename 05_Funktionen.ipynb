{
 "cells": [
  {
   "cell_type": "markdown",
   "metadata": {},
   "source": [
    "# Funktionen I"
   ]
  },
  {
   "cell_type": "markdown",
   "metadata": {},
   "source": [
    "Wollen wir Aktionen, oder Abfolgen von Aktionen mehrfach nutzen, können wir copy & paste verwenden. Doch dann wird der Code schnell unübersichtlich. Deshalb nutzen wir sogenannte __Funktionen__."
   ]
  },
  {
   "cell_type": "markdown",
   "metadata": {},
   "source": [
    "## Anatomie von Funktionen"
   ]
  },
  {
   "cell_type": "markdown",
   "metadata": {},
   "source": [
    "Immer wenn wir ein Kommando gefolgt von runden Klammern wie z.B. ```print()``` benutzt haben, handelt es sich um eine Funktion.\n",
    "* Funktionen sind eine bestimmte Menge an Aktionen denen wir einen Namen geben.\n",
    "* Wir können die Aktionen ausführen, indem wir sie \"rufen\", also ihren Namen gefolgt von runden Klammern benutzen.\n",
    "* Funktionen können Variablen als Argumente übergeben bekommen und auf diesen Argumenten dann Aktionen ausführen.\n",
    "* Funktionen können Variablen an den Rest des Codes \"zurückgeben\"."
   ]
  },
  {
   "cell_type": "markdown",
   "metadata": {},
   "source": [
    "###### Beispiel für eine Funktion"
   ]
  },
  {
   "cell_type": "code",
   "execution_count": 1,
   "metadata": {
    "scrolled": true
   },
   "outputs": [
    {
     "name": "stdout",
     "output_type": "stream",
     "text": [
      "Maschinendeck\n"
     ]
    }
   ],
   "source": [
    "word = 'Maschinendeck'\n",
    "print(word)"
   ]
  },
  {
   "cell_type": "markdown",
   "metadata": {},
   "source": [
    "* ```print``` ist der Name der Funktion\n",
    "* \"word\" ist die Variable, die wir der Funktion als Argument übergeben\n",
    "* die Ausgabe auf der Kommandozeile ist die Aktion der Funktion: das Argument wird also ausgegeben"
   ]
  },
  {
   "cell_type": "markdown",
   "metadata": {},
   "source": [
    "###### Weiteres Beispiel für eine Funktion"
   ]
  },
  {
   "cell_type": "code",
   "execution_count": 3,
   "metadata": {
    "scrolled": true
   },
   "outputs": [
    {
     "name": "stdout",
     "output_type": "stream",
     "text": [
      "6\n"
     ]
    }
   ],
   "source": [
    "numbers = [1, 2, 3]\n",
    "summe = sum(numbers)\n",
    "\n",
    "print(summe)"
   ]
  },
  {
   "cell_type": "markdown",
   "metadata": {},
   "source": [
    "__Wichtig:__ wir können nicht irgendwelche Argumente an eine Funktion übergeben. Es ergibt bspw. keinen Sinn, eine Liste mit Strings an die Funktion ```sum()``` zu übergeben:"
   ]
  },
  {
   "cell_type": "code",
   "execution_count": 4,
   "metadata": {
    "scrolled": true
   },
   "outputs": [
    {
     "ename": "TypeError",
     "evalue": "unsupported operand type(s) for +: 'int' and 'str'",
     "output_type": "error",
     "traceback": [
      "\u001b[1;31m---------------------------------------------------------------------------\u001b[0m",
      "\u001b[1;31mTypeError\u001b[0m                                 Traceback (most recent call last)",
      "\u001b[1;32m<ipython-input-4-f2e6eb2051e3>\u001b[0m in \u001b[0;36m<module>\u001b[1;34m\u001b[0m\n\u001b[1;32m----> 1\u001b[1;33m \u001b[0msum\u001b[0m\u001b[1;33m(\u001b[0m\u001b[1;33m[\u001b[0m\u001b[1;34m'a'\u001b[0m\u001b[1;33m,\u001b[0m \u001b[1;34m'b'\u001b[0m\u001b[1;33m,\u001b[0m \u001b[1;34m'c'\u001b[0m\u001b[1;33m]\u001b[0m\u001b[1;33m)\u001b[0m\u001b[1;33m\u001b[0m\u001b[1;33m\u001b[0m\u001b[0m\n\u001b[0m",
      "\u001b[1;31mTypeError\u001b[0m: unsupported operand type(s) for +: 'int' and 'str'"
     ]
    }
   ],
   "source": [
    "sum(['a', 'b', 'c'])"
   ]
  },
  {
   "cell_type": "markdown",
   "metadata": {},
   "source": [
    "## Syntax zur Erstellung eigener Funktionen"
   ]
  },
  {
   "cell_type": "markdown",
   "metadata": {},
   "source": [
    "Über die Nutzung bestehender Funktionen hinaus, besteht auch die Möglichkeit, sich selbst Funktionen zu bauen. \n",
    "Um eine komplett neue Funktion zu definieren, benutzen wir das ```def``` Keyword. <br>\n",
    "__Wichtig__ ist auch zu beachten, dass das der Funktionskopf mit einem __Doppelpunkt__ abgeschlossen wird und der __Funktionskörper eingerückt__ wird, um ihn vom Rest des Codes zu trennen."
   ]
  },
  {
   "cell_type": "code",
   "execution_count": 10,
   "metadata": {},
   "outputs": [],
   "source": [
    "# dies ist der Kopf der Funktion\n",
    "# hier wird der Name und die Anzahl der \n",
    "# Argumente definiert\n",
    "\n",
    "def cube(argument):\n",
    "    # dies ist der Körper der Funktion\n",
    "    # hier werden die Aktionen definiert\n",
    "    result = argument * argument * argument\n",
    "    print(result)\n",
    "    \n",
    "def quadrat(argument):\n",
    "    ergebnis = argument * argument\n",
    "    print(ergebnis)"
   ]
  },
  {
   "cell_type": "code",
   "execution_count": 9,
   "metadata": {
    "scrolled": true
   },
   "outputs": [
    {
     "name": "stdout",
     "output_type": "stream",
     "text": [
      "27\n",
      "9\n"
     ]
    }
   ],
   "source": [
    "arg = 3\n",
    "cube(arg)\n",
    "quadrat(arg)"
   ]
  },
  {
   "cell_type": "markdown",
   "metadata": {},
   "source": [
    "__Wichtig:__ durch das Ausführen der Funktion verändert sich der Wert der Variablen, die wir der Funktion als Argument geben nicht:"
   ]
  },
  {
   "cell_type": "code",
   "execution_count": 11,
   "metadata": {},
   "outputs": [
    {
     "name": "stdout",
     "output_type": "stream",
     "text": [
      "27\n",
      "3\n"
     ]
    }
   ],
   "source": [
    "cube(arg)\n",
    "print(arg)"
   ]
  },
  {
   "cell_type": "markdown",
   "metadata": {},
   "source": [
    "###### Vorteile von Funktionen:"
   ]
  },
  {
   "cell_type": "markdown",
   "metadata": {},
   "source": [
    "Der Ansatz, Programme mit Hilfe von Funktionen zu strukturieren wird _prozedurale Programmierung_ genannt. Zusammen mit der objektorientierten Programmierung ist sie eines von mehreren _Programmierparadigmen_ also Stilen, seinen Code zu schreiben.  \n",
    "\n",
    "Vorteile von prozeduraler Programmierung:\n",
    "* Instruktionen werden nur einmal geschrieben, in eine Funktion verpack und dann wiederverwendet wo immer sie gebraucht werden $\\rightarrow$ das spart Arbeitszeit.\n",
    "* Instruktionen an einem Ort zu versammeln macht es einfacher, den Code fehlerfrei zu halten.\n",
    "* Veränderungen müssen immer nur an einem Ort durchgeführt werden und wirken im ganzen Code.\n",
    "* Funktionen können den Code einfacher verständlich und eleganter machen - und das ist wichtig!"
   ]
  },
  {
   "cell_type": "markdown",
   "metadata": {},
   "source": [
    "## Namespaces"
   ]
  },
  {
   "cell_type": "markdown",
   "metadata": {},
   "source": [
    "Innerhalb der Funktion haben wir die Variable \"result\" definiert. Diese Variable ist dem Programm außerhalb der Funktion nicht bekannt! Lasst uns das überprüfen:"
   ]
  },
  {
   "cell_type": "code",
   "execution_count": 13,
   "metadata": {},
   "outputs": [
    {
     "name": "stdout",
     "output_type": "stream",
     "text": [
      "1728\n"
     ]
    },
    {
     "ename": "NameError",
     "evalue": "name 'result' is not defined",
     "output_type": "error",
     "traceback": [
      "\u001b[1;31m---------------------------------------------------------------------------\u001b[0m",
      "\u001b[1;31mNameError\u001b[0m                                 Traceback (most recent call last)",
      "\u001b[1;32m<ipython-input-13-2e2a9e56d558>\u001b[0m in \u001b[0;36m<module>\u001b[1;34m\u001b[0m\n\u001b[0;32m      9\u001b[0m \u001b[0mx\u001b[0m \u001b[1;33m=\u001b[0m \u001b[1;36m12\u001b[0m\u001b[1;33m\u001b[0m\u001b[1;33m\u001b[0m\u001b[0m\n\u001b[0;32m     10\u001b[0m \u001b[0mcube\u001b[0m\u001b[1;33m(\u001b[0m\u001b[0mx\u001b[0m\u001b[1;33m)\u001b[0m\u001b[1;33m\u001b[0m\u001b[1;33m\u001b[0m\u001b[0m\n\u001b[1;32m---> 11\u001b[1;33m \u001b[0mprint\u001b[0m\u001b[1;33m(\u001b[0m\u001b[0mresult\u001b[0m\u001b[1;33m)\u001b[0m\u001b[1;33m\u001b[0m\u001b[1;33m\u001b[0m\u001b[0m\n\u001b[0m",
      "\u001b[1;31mNameError\u001b[0m: name 'result' is not defined"
     ]
    }
   ],
   "source": [
    "# die Funktion steht hier nur zur Erinnerung\n",
    "# noch einmal, eigentlich ist sie unserem \n",
    "# Programm schon von der Definition oben bekannt!\n",
    "\n",
    "def cube(argument):\n",
    "    result = argument * argument * argument\n",
    "    print(result)\n",
    "\n",
    "x = 12\n",
    "cube(x)\n",
    "print(result)"
   ]
  },
  {
   "cell_type": "markdown",
   "metadata": {},
   "source": [
    "Wir nennen das Innere der Funktion den __Namespace__ der Funktion. <br>\n",
    "Innerhalb einer Funktion sind Variablen mit den Namen bekannt, die wir im Funktionskopf definiert haben. ```cube()``` kennt also die Variable \"argument\" und wir können sie im Funktionskörper benutzen."
   ]
  },
  {
   "cell_type": "markdown",
   "metadata": {},
   "source": [
    "## Rückgabewerte"
   ]
  },
  {
   "cell_type": "markdown",
   "metadata": {},
   "source": [
    "Manchmal möchten wir den Wert einer Variablen aus dem Namespace der Funktion hinaus in den globalen Namespace befördern, um ihn dort weiter zu verwenden. Dafür können wir einer Funktion einen sog. _Rückgabewert_ geben. Das tun wir mit dem ```return``` Keyword:"
   ]
  },
  {
   "cell_type": "code",
   "execution_count": 33,
   "metadata": {},
   "outputs": [],
   "source": [
    "# die gleiche Funktion wie vorhin, aber\n",
    "# statt cube auf der Kommandozeile auszugeben\n",
    "# gibt sie cube an den nachfolgenden Code weiter\n",
    "def cube(argument):\n",
    "    result = argument * argument * argument\n",
    "    \n",
    "    # hier wird cube \"zurückgegeben\"\n",
    "    return result"
   ]
  },
  {
   "cell_type": "markdown",
   "metadata": {},
   "source": [
    "Um die Funktion zu testen, müssen wir sie wieder rufen:"
   ]
  },
  {
   "cell_type": "code",
   "execution_count": 34,
   "metadata": {},
   "outputs": [
    {
     "name": "stdout",
     "output_type": "stream",
     "text": [
      "1002\n"
     ]
    }
   ],
   "source": [
    "# definiere eine Variable\n",
    "x = 10\n",
    "\n",
    "# übergib sie an die Funktion und weise\n",
    "# den Rückgabewert einer neuen Variablen zu\n",
    "anderer_name = cube(x)\n",
    "#Weiterverwendung der Variablen\n",
    "anderer_name = anderer_name + 2\n",
    "\n",
    "# überprüfe das Ergebnis\n",
    "print(anderer_name)"
   ]
  },
  {
   "cell_type": "markdown",
   "metadata": {},
   "source": [
    "## Argumente"
   ]
  },
  {
   "cell_type": "markdown",
   "metadata": {},
   "source": [
    "Bis jetzt haben wir Funktionen immer entweder ein Argument mitgegeben. Wir müssen uns aber nicht darauf beschränken. Es gibt kein Limit für die Anzahl der Argumente, die wir einer Funktion mitgeben können!"
   ]
  },
  {
   "cell_type": "markdown",
   "metadata": {},
   "source": [
    "#### Funktionen ohne Argumente\n",
    "Es ist auch möglich, Funktionen ohne Argumente zu definieren. Siehe im folgenden Beispiel:"
   ]
  },
  {
   "cell_type": "code",
   "execution_count": 7,
   "metadata": {
    "scrolled": false
   },
   "outputs": [
    {
     "name": "stdout",
     "output_type": "stream",
     "text": [
      "*** important keyboard shortcuts: ***\n",
      "             cell to markdown - m\n",
      "             cell to code - y\n"
     ]
    }
   ],
   "source": [
    "# eine Funktion, die einen Hilfs-Text ausgibt\n",
    "def print_help():\n",
    "    \n",
    "    # merke: die Funktion hat kein Argument\n",
    "    print('''*** important keyboard shortcuts: ***\n",
    "             cell to markdown - m\n",
    "             cell to code - y''')\n",
    "    \n",
    "print_help()"
   ]
  },
  {
   "cell_type": "markdown",
   "metadata": {},
   "source": [
    "#### Funktionen mit mehreren Argumenten"
   ]
  },
  {
   "cell_type": "code",
   "execution_count": 17,
   "metadata": {},
   "outputs": [
    {
     "name": "stdout",
     "output_type": "stream",
     "text": [
      "heute gibt es curry mit reis als beilage zu essen\n",
      "heute gibt es schnitzel mit pommes als beilage zu essen\n"
     ]
    }
   ],
   "source": [
    "# eine Funktion mit zwei Variablen\n",
    "def mittagessen(hauptgericht, beilage):\n",
    "    \n",
    "    # die Funktion gibt nur eine Nachricht auf\n",
    "    # der Kommandozeile aus\n",
    "    print('heute gibt es', hauptgericht, 'mit', beilage, 'als beilage zu essen')\n",
    "    \n",
    "mittagessen('curry', 'reis')\n",
    "mittagessen('schnitzel', 'pommes')"
   ]
  },
  {
   "cell_type": "markdown",
   "metadata": {},
   "source": [
    "__Achtung!__ Die übergebenen Argumente sind __positionsabhängig__. Siehe im folgenden Beispiel:"
   ]
  },
  {
   "cell_type": "code",
   "execution_count": 20,
   "metadata": {
    "scrolled": true
   },
   "outputs": [
    {
     "name": "stdout",
     "output_type": "stream",
     "text": [
      "Vorname: Inga\n",
      "Nachname: Schmidt\n",
      "Alter: 25\n"
     ]
    }
   ],
   "source": [
    "def beschreibe_person(vorname, nachname, alter):\n",
    "\n",
    "    # HINWEIS: title() schreibt einen String groß\n",
    "    print(\"Vorname:\", vorname.title())\n",
    "    print(\"Nachname:\", nachname.title())\n",
    "    print(\"Alter:\", (alter))\n",
    "\n",
    "#hier gibt es kein Problem\n",
    "beschreibe_person('inga', 'schmidt', 25)"
   ]
  },
  {
   "cell_type": "markdown",
   "metadata": {},
   "source": [
    "In diesem Beispiel wird das erste Argument der Vorname, das zweite Argument der Nachname und das dritte Argument das Alter."
   ]
  },
  {
   "cell_type": "code",
   "execution_count": 22,
   "metadata": {
    "scrolled": true
   },
   "outputs": [
    {
     "name": "stdout",
     "output_type": "stream",
     "text": [
      "Vorname: Müller\n",
      "Nachname: Hans\n",
      "Alter: 25\n"
     ]
    }
   ],
   "source": [
    "#Hier vertauschen wir absichtlich Vor- und Nachname\n",
    "#Das ist zwar doof, aber führt zu keinem Problem:\n",
    "beschreibe_person('müller', 'hans', 25)"
   ]
  },
  {
   "cell_type": "code",
   "execution_count": 23,
   "metadata": {
    "scrolled": true
   },
   "outputs": [
    {
     "ename": "AttributeError",
     "evalue": "'int' object has no attribute 'title'",
     "output_type": "error",
     "traceback": [
      "\u001b[1;31m---------------------------------------------------------------------------\u001b[0m",
      "\u001b[1;31mAttributeError\u001b[0m                            Traceback (most recent call last)",
      "\u001b[1;32m<ipython-input-23-b58b6f64d143>\u001b[0m in \u001b[0;36m<module>\u001b[1;34m\u001b[0m\n\u001b[0;32m      1\u001b[0m \u001b[1;31m#Hier vertauschen wir absichtlich Vorname und Alter\u001b[0m\u001b[1;33m\u001b[0m\u001b[1;33m\u001b[0m\u001b[1;33m\u001b[0m\u001b[0m\n\u001b[0;32m      2\u001b[0m \u001b[1;31m#Das führt zu einem Problem, da die Funktion title() nur für Strings ausgelegt ist\u001b[0m\u001b[1;33m\u001b[0m\u001b[1;33m\u001b[0m\u001b[1;33m\u001b[0m\u001b[0m\n\u001b[1;32m----> 3\u001b[1;33m \u001b[0mbeschreibe_person\u001b[0m\u001b[1;33m(\u001b[0m\u001b[1;36m25\u001b[0m\u001b[1;33m,\u001b[0m \u001b[1;34m'müller'\u001b[0m\u001b[1;33m,\u001b[0m \u001b[1;34m'hans'\u001b[0m\u001b[1;33m)\u001b[0m\u001b[1;33m\u001b[0m\u001b[1;33m\u001b[0m\u001b[0m\n\u001b[0m",
      "\u001b[1;32m<ipython-input-20-c663e8a7de97>\u001b[0m in \u001b[0;36mbeschreibe_person\u001b[1;34m(vorname, nachname, alter)\u001b[0m\n\u001b[0;32m      2\u001b[0m \u001b[1;33m\u001b[0m\u001b[0m\n\u001b[0;32m      3\u001b[0m     \u001b[1;31m# HINWEIS: title() schreibt einen String groß\u001b[0m\u001b[1;33m\u001b[0m\u001b[1;33m\u001b[0m\u001b[1;33m\u001b[0m\u001b[0m\n\u001b[1;32m----> 4\u001b[1;33m     \u001b[0mprint\u001b[0m\u001b[1;33m(\u001b[0m\u001b[1;34m\"Vorname:\"\u001b[0m\u001b[1;33m,\u001b[0m \u001b[0mvorname\u001b[0m\u001b[1;33m.\u001b[0m\u001b[0mtitle\u001b[0m\u001b[1;33m(\u001b[0m\u001b[1;33m)\u001b[0m\u001b[1;33m)\u001b[0m\u001b[1;33m\u001b[0m\u001b[1;33m\u001b[0m\u001b[0m\n\u001b[0m\u001b[0;32m      5\u001b[0m     \u001b[0mprint\u001b[0m\u001b[1;33m(\u001b[0m\u001b[1;34m\"Nachname:\"\u001b[0m\u001b[1;33m,\u001b[0m \u001b[0mnachname\u001b[0m\u001b[1;33m.\u001b[0m\u001b[0mtitle\u001b[0m\u001b[1;33m(\u001b[0m\u001b[1;33m)\u001b[0m\u001b[1;33m)\u001b[0m\u001b[1;33m\u001b[0m\u001b[1;33m\u001b[0m\u001b[0m\n\u001b[0;32m      6\u001b[0m     \u001b[0mprint\u001b[0m\u001b[1;33m(\u001b[0m\u001b[1;34m\"Alter:\"\u001b[0m\u001b[1;33m,\u001b[0m \u001b[1;33m(\u001b[0m\u001b[0malter\u001b[0m\u001b[1;33m)\u001b[0m\u001b[1;33m)\u001b[0m\u001b[1;33m\u001b[0m\u001b[1;33m\u001b[0m\u001b[0m\n",
      "\u001b[1;31mAttributeError\u001b[0m: 'int' object has no attribute 'title'"
     ]
    }
   ],
   "source": [
    "#Hier vertauschen wir absichtlich Vorname und Alter\n",
    "#Das führt zu einem Problem, da die Funktion title() nur für Strings ausgelegt ist\n",
    "beschreibe_person(25, 'müller', 'hans')"
   ]
  },
  {
   "cell_type": "markdown",
   "metadata": {},
   "source": [
    "Was passiert, wenn wir aus Versehen ein __Argument vergessen__?"
   ]
  },
  {
   "cell_type": "code",
   "execution_count": 26,
   "metadata": {},
   "outputs": [
    {
     "ename": "TypeError",
     "evalue": "beschreibe_person() takes 3 positional arguments but 4 were given",
     "output_type": "error",
     "traceback": [
      "\u001b[1;31m---------------------------------------------------------------------------\u001b[0m",
      "\u001b[1;31mTypeError\u001b[0m                                 Traceback (most recent call last)",
      "\u001b[1;32m<ipython-input-26-71bb35ee14ff>\u001b[0m in \u001b[0;36m<module>\u001b[1;34m\u001b[0m\n\u001b[1;32m----> 1\u001b[1;33m \u001b[0mbeschreibe_person\u001b[0m\u001b[1;33m(\u001b[0m\u001b[1;34m'moni'\u001b[0m\u001b[1;33m,\u001b[0m \u001b[1;34m'dietrich'\u001b[0m\u001b[1;33m,\u001b[0m \u001b[1;36m3\u001b[0m\u001b[1;33m,\u001b[0m \u001b[1;36m3\u001b[0m\u001b[1;33m)\u001b[0m\u001b[1;33m\u001b[0m\u001b[1;33m\u001b[0m\u001b[0m\n\u001b[0m",
      "\u001b[1;31mTypeError\u001b[0m: beschreibe_person() takes 3 positional arguments but 4 were given"
     ]
    }
   ],
   "source": [
    "#Ein Argument zu wenig wird übergeben\n",
    "beschreibe_person('moni', 'dietrich')"
   ]
  },
  {
   "cell_type": "code",
   "execution_count": 27,
   "metadata": {},
   "outputs": [
    {
     "ename": "TypeError",
     "evalue": "beschreibe_person() takes 3 positional arguments but 4 were given",
     "output_type": "error",
     "traceback": [
      "\u001b[1;31m---------------------------------------------------------------------------\u001b[0m",
      "\u001b[1;31mTypeError\u001b[0m                                 Traceback (most recent call last)",
      "\u001b[1;32m<ipython-input-27-1075b35db840>\u001b[0m in \u001b[0;36m<module>\u001b[1;34m\u001b[0m\n\u001b[0;32m      1\u001b[0m \u001b[1;31m#Andersherum: ein Argument zu viel\u001b[0m\u001b[1;33m\u001b[0m\u001b[1;33m\u001b[0m\u001b[1;33m\u001b[0m\u001b[0m\n\u001b[1;32m----> 2\u001b[1;33m \u001b[0mbeschreibe_person\u001b[0m\u001b[1;33m(\u001b[0m\u001b[1;34m'moni'\u001b[0m\u001b[1;33m,\u001b[0m \u001b[1;34m'dietrich'\u001b[0m\u001b[1;33m,\u001b[0m \u001b[1;36m3\u001b[0m\u001b[1;33m,\u001b[0m \u001b[1;36m3\u001b[0m\u001b[1;33m)\u001b[0m\u001b[1;33m\u001b[0m\u001b[1;33m\u001b[0m\u001b[0m\n\u001b[0m",
      "\u001b[1;31mTypeError\u001b[0m: beschreibe_person() takes 3 positional arguments but 4 were given"
     ]
    }
   ],
   "source": [
    "#Andersherum: ein Argument zu viel\n",
    "beschreibe_person('moni', 'dietrich', 3, 3)"
   ]
  },
  {
   "cell_type": "markdown",
   "metadata": {},
   "source": [
    "## Default Werte"
   ]
  },
  {
   "cell_type": "markdown",
   "metadata": {},
   "source": [
    "Manchmal möchten wir die Wahl haben, ob wir einer Funktion einen spezifischen Wert mitgeben wollen oder lieber ein vordefiniertes default-Verhalten haben möchten. Dafür können wir sog. _default Argumente_ definieren:"
   ]
  },
  {
   "cell_type": "code",
   "execution_count": 28,
   "metadata": {
    "scrolled": true
   },
   "outputs": [
    {
     "name": "stdout",
     "output_type": "stream",
     "text": [
      "You are doing good work Bianca !\n",
      "\n",
      "You are doing good work Katrin !\n",
      "\n",
      "You are doing good work everyone !\n",
      "\n"
     ]
    }
   ],
   "source": [
    "# die Funktion gibt eine Nachricht an \"name\" aus\n",
    "# wenn \"name\" nicht spezifiziert ist, wird die \n",
    "# Nachricht an \"everyone\" ausgegeben (default-Verhalten)\n",
    "def thank_you(name='everyone'):\n",
    "    print(\"You are doing good work\", name, \"!\\n\")\n",
    "    \n",
    "thank_you('Bianca')\n",
    "thank_you('Katrin')\n",
    "thank_you()"
   ]
  },
  {
   "cell_type": "markdown",
   "metadata": {},
   "source": [
    "Natürlich können wir positionsabhängige und default-Argumente auch mischen.  \n",
    "\n",
    "__Wichtig:__ zuerst müssen immer die positionsabhängigen, dann erst die default-Argumente im Funktionskopf stehen!"
   ]
  },
  {
   "cell_type": "code",
   "execution_count": 29,
   "metadata": {},
   "outputs": [
    {
     "name": "stdout",
     "output_type": "stream",
     "text": [
      "16\n",
      "4\n"
     ]
    }
   ],
   "source": [
    "# eine Funktion, die ein Basis mit einem\n",
    "# Exponenten potenziert. Der Exponent ist\n",
    "# als default-Argument vorgegeben\n",
    "def power(base, exponent=2):\n",
    "    return base ** exponent\n",
    "\n",
    "# hier übergeben wir sowohl Basis als auch\n",
    "# Exponent an die Funktion\n",
    "print(power(2,4))\n",
    "\n",
    "# hier übergeben wir nur die Basis, der\n",
    "# Exponent dann ist automatisch 2\n",
    "print(power(2))\n"
   ]
  },
  {
   "cell_type": "markdown",
   "metadata": {},
   "source": [
    "### Für Funktionen II:\n",
    "keyword-argumente"
   ]
  },
  {
   "cell_type": "markdown",
   "metadata": {},
   "source": [
    "### Übungen"
   ]
  },
  {
   "cell_type": "markdown",
   "metadata": {},
   "source": [
    "1. Schreibe eine Funktion, die zwei Zahlen als Argumente erhält und ihre Differenz auf der Kommandozeile ausgibt."
   ]
  },
  {
   "cell_type": "markdown",
   "metadata": {},
   "source": [
    "2. Schreibe eine Funktion, die eine Liste mit Zahlen als ein einzelnes Argument erhält und die Summe der Quadrate der Zahlen zurückgibt (nutze ```return```)."
   ]
  },
  {
   "cell_type": "markdown",
   "metadata": {},
   "source": [
    "3. Erinnere dich an die Übung aus der letzten Übung: <br>\n",
    "    Iteriere über eine Liste ```[\"1\", \"3\", \"5\", \"7\"]``` (oder jede beliebig lange Sequenz ungerader natürlicher Zahlen) und verändere sie so, dass am Ende ```[\"<3\", \"<3<3<3\", \"<3<3<3<3<3\". \"<3<3<3<3<3<3<3\"]``` (bzw. das Äquivalent in Herzchen) herauskommt. <br>\n",
    "    Schreibe eine Funktion die eine Zahl als Argument übernimmt und entsprechend dieser eine Anzahl an Herzchen auf der Kommandozeile ausgibt\n"
   ]
  },
  {
   "cell_type": "markdown",
   "metadata": {},
   "source": [
    "4. a) Schreibe eine Funktion, die fünf Argumente (x, a, b, c, d) erhält und aus ihnen ein Polynom vom Grad drei $f(x) = ax^3 + bx^2 + cx + d$ berechnet und den Wert zurückgibt. <br>\n",
    "    b) Modifiziere die Funktion so, dass die Koeffizienten a, b, c und d default-Werte bekommen."
   ]
  }
 ],
 "metadata": {
  "kernelspec": {
   "display_name": "Python 3",
   "language": "python",
   "name": "python3"
  },
  "language_info": {
   "codemirror_mode": {
    "name": "ipython",
    "version": 3
   },
   "file_extension": ".py",
   "mimetype": "text/x-python",
   "name": "python",
   "nbconvert_exporter": "python",
   "pygments_lexer": "ipython3",
   "version": "3.7.4"
  }
 },
 "nbformat": 4,
 "nbformat_minor": 2
}
