{
 "cells": [
  {
   "cell_type": "code",
   "execution_count": 2,
   "metadata": {},
   "outputs": [
    {
     "name": "stdout",
     "output_type": "stream",
     "text": [
      "Please enter a number: 235\n",
      "The number (235) you entered is odd.\n"
     ]
    }
   ],
   "source": [
    "#ask the user for input\n",
    "userIn = input('Please enter a number: ')\n",
    "\n",
    "#cast the input (string) to a floating point number\n",
    "number = float(userIn)\n",
    "\n",
    "#check if the number is even\n",
    "if number%2==0:\n",
    "    print('The number (' + userIn + ') you entered is even.')\n",
    "else:\n",
    "    print('The number (' + userIn + ') you entered is odd.')\n"
   ]
  }
 ],
 "metadata": {
  "kernelspec": {
   "display_name": "Python 3",
   "language": "python",
   "name": "python3"
  },
  "language_info": {
   "codemirror_mode": {
    "name": "ipython",
    "version": 3
   },
   "file_extension": ".py",
   "mimetype": "text/x-python",
   "name": "python",
   "nbconvert_exporter": "python",
   "pygments_lexer": "ipython3",
   "version": "3.7.4"
  }
 },
 "nbformat": 4,
 "nbformat_minor": 2
}
