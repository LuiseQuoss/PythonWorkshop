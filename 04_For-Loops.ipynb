{
 "cells": [
  {
   "cell_type": "markdown",
   "metadata": {},
   "source": [
    "# Control Flow II: For-Loops"
   ]
  },
  {
   "cell_type": "markdown",
   "metadata": {},
   "source": [
    "Um das volle Potenzial komplexer Datentypen wie z.B. Listen auszukosten, oder einfach um eine Aktion beliebig oft auszuführen, gibt es sogenannte Schleifen (engl. *loop*). Schleifen sind unheimlich nützlich und omnipräsent, können aber auch ihre Tücken haben. Wer das Konzept aber erstmal verinnerlicht hat, wird es nicht mehr missen wollen."
   ]
  },
  {
   "cell_type": "markdown",
   "metadata": {},
   "source": [
    "Eine Schleife besteht aus einer Abbruchbedingung (\"Führe etwas solange aus, bis eine Bedingung erfüllt ist\") und vor allem einer oder mehrerer Anweisungen, die so oft wiederholt werden, bis die Abbruchbedingung erfüllt ist und die Schleife endet. Danach geht es mit dem Rest des Programms weiter."
   ]
  },
  {
   "cell_type": "markdown",
   "metadata": {},
   "source": [
    "Für den Anfang betrachten wir ```for-``` Schleifen, die über einen festgelegten Satz an Daten, zum Beispiel eine Liste iterieren. Die Abbruchbedingung ist erfüllt, wenn die Anweisungen innerhalb der Schleife so oft ausgeführt wurden wie die Liste Elemente besitzt. Dies ist wahrscheinlich die häufigste Schleife, die man mit Python benutzt. In der restlichen Programmierwelt (oder zumindest Java) sind sie auch als for-each-Schleifen bekannt."
   ]
  },
  {
   "cell_type": "markdown",
   "metadata": {},
   "source": [
    "Wichtig bei der Syntax (wie übrigens auch schon bei ```if``` - Bedingungen) ist, dass alle Anweisungen innerhalb der Schleife eingerückt sind, standardmäßig mit 4 Leerzeichen. Ein guter Texteditor setzt das automatisch."
   ]
  },
  {
   "cell_type": "markdown",
   "metadata": {},
   "source": [
    "Los geht's:"
   ]
  },
  {
   "cell_type": "code",
   "execution_count": 1,
   "metadata": {},
   "outputs": [
    {
     "name": "stdout",
     "output_type": "stream",
     "text": [
      "1 ~ 1\n",
      "2 ~ 4\n",
      "3 ~ 9\n",
      "4 ~ 16\n",
      "5 ~ 25\n",
      "6 ~ 36\n"
     ]
    }
   ],
   "source": [
    "numbers = [1, 2, 3, 4, 5, 6]\n",
    "for number in numbers:\n",
    "    print(number, '~', number**2)"
   ]
  },
  {
   "cell_type": "markdown",
   "metadata": {},
   "source": [
    "Man könnte natürlich auch für jede Zahl einzeln ```print(number, '~', number**2)``` schreiben, aber die besten Programmiererinnen sind oft die (tipp-)faulsten. "
   ]
  },
  {
   "cell_type": "markdown",
   "metadata": {},
   "source": [
    "Außerdem gibt es weitere Vorteile:\n",
    "- Man ist von den Daten unabhängig. Gleich strukturierte Daten können gleich behandelt werden, ohne zu wissen, was genau sie sind.\n",
    "- Der for-Loop endet, wenn alle Daten einmal \"behandelt\" worden sind. Man muss also auch nicht im Vorfeld wissen, wie lang z.B. die Liste ist.\n",
    "- Man spart etliche Zeilen Code. Listen oder andere iterierbare Datentypen haben auch gerne mal mehrere hundert, tausend oder gar mehr Elemente."
   ]
  },
  {
   "cell_type": "markdown",
   "metadata": {},
   "source": [
    "Manchmal möchte man auch einfach eine Aktion beliebig oft ausführen. Dafür gibt es ```range```-Objekte:"
   ]
  },
  {
   "cell_type": "code",
   "execution_count": 2,
   "metadata": {},
   "outputs": [
    {
     "name": "stdout",
     "output_type": "stream",
     "text": [
      "0\n",
      "1\n",
      "2\n",
      "3\n",
      "4\n",
      "5\n",
      "6\n",
      "7\n",
      "8\n",
      "9\n",
      "spam! eggs!\n",
      "spam! eggs!\n",
      "spam! eggs!\n",
      "spam! eggs!\n",
      "spam! eggs!\n",
      "spam! eggs!\n"
     ]
    }
   ],
   "source": [
    "for i in range(10): # i bietet sich als Variablenname an, wenn man die Zahl noch braucht.\n",
    "    print(i)\n",
    "    \n",
    "for _ in range(6): # _ benutzt man, wenn man die Variable im Anweisungsblock nicht mehr verwendet.\n",
    "    print('spam! eggs!')"
   ]
  },
  {
   "cell_type": "markdown",
   "metadata": {},
   "source": [
    "Mal was mit Strings:"
   ]
  },
  {
   "cell_type": "code",
   "execution_count": 3,
   "metadata": {},
   "outputs": [
    {
     "name": "stdout",
     "output_type": "stream",
     "text": [
      "Lucy in the sky with diamonds \n"
     ]
    }
   ],
   "source": [
    "my_words = ['Lucy', 'in', 'the', 'sky', 'with', 'diamonds']\n",
    "my_string = ''\n",
    "for word in my_words:\n",
    "    my_string += word + ' '\n",
    "print(my_string)"
   ]
  },
  {
   "cell_type": "markdown",
   "metadata": {},
   "source": [
    "Dafür gibt es eigentlich schon eine Python-Funktion:"
   ]
  },
  {
   "cell_type": "code",
   "execution_count": 4,
   "metadata": {},
   "outputs": [
    {
     "name": "stdout",
     "output_type": "stream",
     "text": [
      "Lucy in the sky with diamonds\n"
     ]
    }
   ],
   "source": [
    "pretty = ' '.join(my_words)\n",
    "print(pretty)"
   ]
  },
  {
   "cell_type": "markdown",
   "metadata": {},
   "source": [
    "## In den Loop eingreifen"
   ]
  },
  {
   "cell_type": "markdown",
   "metadata": {},
   "source": [
    "Manchmal möchte man gewisse Ausführungen im Loop überspringen oder den Loop (vorzeitig) abbrechen. Dafür gibt es die Keywords ```continue``` und ```break```. ```continue``` sagt, dass man weiter springen soll:"
   ]
  },
  {
   "cell_type": "code",
   "execution_count": 4,
   "metadata": {},
   "outputs": [
    {
     "name": "stdout",
     "output_type": "stream",
     "text": [
      "1\n",
      "2\n",
      "4\n",
      "5\n",
      "7\n",
      "8\n",
      "10\n",
      "11\n",
      "13\n"
     ]
    }
   ],
   "source": [
    "for i in range(14):\n",
    "    if i % 3 == 0:\n",
    "        continue\n",
    "    print(i)"
   ]
  },
  {
   "cell_type": "markdown",
   "metadata": {},
   "source": [
    "Hier sieht man, dass wenn die ```if```-Bedingung zutrifft, alles hinter ```continue``` erst wieder in der nächsten Schleife (in der die Bedingung nicht zutrifft) ausgeführt wird. Man könnte dieses Beispiel natürlich noch anders ausdrücken. Am Ende kommt es immer darauf an, was man braucht, was einem als erstes einfällt und was man für das Eleganteste hält."
   ]
  },
  {
   "cell_type": "markdown",
   "metadata": {},
   "source": [
    "```break``` führt dazu, dass die Schleife ganz abbricht:"
   ]
  },
  {
   "cell_type": "code",
   "execution_count": 7,
   "metadata": {},
   "outputs": [
    {
     "name": "stdout",
     "output_type": "stream",
     "text": [
      "0\n",
      "1\n",
      "2\n",
      "3\n",
      "4\n",
      "5\n",
      "6\n",
      "7\n",
      "8\n",
      "9\n",
      "10\n"
     ]
    }
   ],
   "source": [
    "for i in range(400):\n",
    "    print(i)\n",
    "    if i == 10:\n",
    "        break"
   ]
  },
  {
   "cell_type": "markdown",
   "metadata": {},
   "source": [
    "## Iteration mit Index"
   ]
  },
  {
   "cell_type": "markdown",
   "metadata": {},
   "source": [
    "Wenn eine Schleife die Elemente einer Liste durchgeht, nennt man das Iteration bzw. Iterieren. Manchmal möchte man bei der Iteration noch wissen, welchen Index das Element hat:"
   ]
  },
  {
   "cell_type": "code",
   "execution_count": 18,
   "metadata": {},
   "outputs": [
    {
     "name": "stdout",
     "output_type": "stream",
     "text": [
      "0 Spinne\n",
      "1 Goldfisch\n",
      "2 Bär\n",
      "3 Ente\n",
      "4 Katze\n"
     ]
    }
   ],
   "source": [
    "tiere = ['Spinne', 'Goldfisch', 'Bär', 'Ente', 'Katze']\n",
    "for idx, tier in enumerate(tiere):\n",
    "    print(idx, tier)\n",
    "    "
   ]
  },
  {
   "cell_type": "markdown",
   "metadata": {},
   "source": [
    "Aber Achtung! ```enumerate()``` operiert nur auf einer Kopie der originalen Liste:"
   ]
  },
  {
   "cell_type": "code",
   "execution_count": 13,
   "metadata": {},
   "outputs": [
    {
     "name": "stdout",
     "output_type": "stream",
     "text": [
      "Spinne 0\n",
      "Goldfisch 1\n",
      "Bär 2\n",
      "Ente 3\n",
      "Katze 4\n",
      "['Spinne', 'Goldfisch', 'Bär', 'Ente', 'Katze']\n"
     ]
    }
   ],
   "source": [
    "for idx, tier in enumerate(tiere):\n",
    "    tier = tier + ' ' + str(idx)\n",
    "    print(tier)\n",
    "print(tiere)"
   ]
  },
  {
   "cell_type": "markdown",
   "metadata": {},
   "source": [
    "Um die Liste zu ändern, muss man direkt auf sie zugreifen:"
   ]
  },
  {
   "cell_type": "code",
   "execution_count": 17,
   "metadata": {
    "scrolled": true
   },
   "outputs": [
    {
     "name": "stdout",
     "output_type": "stream",
     "text": [
      "[('Spinne', 0), ('Goldfisch', 1), ('Bär', 2), ('Ente', 3), ('Katze', 4)]\n"
     ]
    }
   ],
   "source": [
    "for idx, tier in enumerate(tiere):\n",
    "    tiere[idx] = tier, idx\n",
    "print(tiere)"
   ]
  },
  {
   "cell_type": "markdown",
   "metadata": {},
   "source": [
    "## Übungen"
   ]
  },
  {
   "cell_type": "markdown",
   "metadata": {},
   "source": [
    "1. Erstelle eine beliebig lange Listen mit Zahlen (int oder float oder gemischt). Addiere alle Zahlen zusammen und gebe die Gesamtsumme aus. Du weißt vorher nicht, wie viele Zahlen addiert werden sollen."
   ]
  },
  {
   "cell_type": "markdown",
   "metadata": {},
   "source": [
    "2. Programmiere ein \"FizzBuzz\": Gebe alle Zahlen von 1 bis 100 aus, aber statt den Vielfachen von 3 schreibe \"Fizz\" und statt Vielfachen von 5 schreibe \"Buzz\". Vielfache beider Zahlen werden durch \"FizzBuzz\" ersetzt."
   ]
  },
  {
   "cell_type": "markdown",
   "metadata": {},
   "source": [
    "3. Was ist der Unterschied zwischen dem String, der durch den Loop erzeugt wurde und dem, der durch die Funktion .join() erzeugt wurde? Wie kann das untersucht werden (Tipp: Slicing geht auch bei Strings). Wie kann man die .join()- Funktion nachempfinden?"
   ]
  },
  {
   "cell_type": "markdown",
   "metadata": {},
   "source": [
    "4. Schreibe das Bespiel \n",
    "<code>\n",
    "    for i in range(14):\n",
    "    if i % 3 == 0:\n",
    "        continue\n",
    "    print(i)\n",
    "</code>\n",
    "von oben \n",
    "so um, dass es ohne break und ohne continue auskommt."
   ]
  },
  {
   "cell_type": "markdown",
   "metadata": {},
   "source": [
    "5. Iteriere über eine Liste ```[\"One\", \"Three\", \"Five\"]``` und verändere sie so, dass am Ende ```[\"<3\", \"<3<3<3\", \"<3<3<3<3<3\"]``` herauskommt."
   ]
  },
  {
   "cell_type": "code",
   "execution_count": null,
   "metadata": {},
   "outputs": [],
   "source": []
  }
 ],
 "metadata": {
  "kernelspec": {
   "display_name": "Python 3",
   "language": "python",
   "name": "python3"
  },
  "language_info": {
   "codemirror_mode": {
    "name": "ipython",
    "version": 3
   },
   "file_extension": ".py",
   "mimetype": "text/x-python",
   "name": "python",
   "nbconvert_exporter": "python",
   "pygments_lexer": "ipython3",
   "version": "3.5.2"
  }
 },
 "nbformat": 4,
 "nbformat_minor": 2
}
